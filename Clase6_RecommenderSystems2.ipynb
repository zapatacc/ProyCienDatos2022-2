{
 "cells": [
  {
   "cell_type": "markdown",
   "metadata": {
    "pycharm": {
     "name": "#%% md\n"
    }
   },
   "source": [
    "# Sistemas de recomendación\n",
    "___\n",
    "![](https://www.fundacionctic.org/sites/default/files/inline-images/3_4.png)"
   ]
  },
  {
   "cell_type": "markdown",
   "metadata": {
    "pycharm": {
     "name": "#%% md\n"
    }
   },
   "source": [
    "## Recordando\n",
    "### Tipos de sistemas de generación de candidatos\n",
    "1. **Content-based filtering System**\n",
    "\n",
    "2. **Collaborative filtering System**\n",
    "\n",
    "___\n"
   ]
  },
  {
   "cell_type": "markdown",
   "metadata": {
    "pycharm": {
     "name": "#%% md\n"
    }
   },
   "source": [
    "## Pasos involucrados en el filtrado colaborativo\n",
    "\n",
    "Para crear un sistema que pueda recomendar automáticamente elementos a los usuarios en función de las preferencias de otros usuarios,\n",
    "1. Encontrar usuarios o elementos similares\n",
    "2. Predecir las calificaciones de los elementos que aún no han sido calificados.\n",
    "\n",
    "Y se deben responder las siguientes preguntas:\n",
    "\n",
    "    + ¿Cómo determina qué usuarios o elementos son similares entre sí?\n",
    "    + Dado que sabe qué usuarios son similares, ¿cómo determina la calificación que un usuario le daría a un elemento en función de las calificaciones de usuarios similares?\n",
    "    + ¿Cómo mide la precisión de las calificaciones que calcula?\n",
    "\n",
    "\n",
    "**Respuesta: Filtro Colaborativo.**\n",
    "\n",
    "El filtro colaborativo es una familia de algoritmos en la que hay múltiples formas de encontrar usuarios o elementos similares y múltiples formas de calcular la calificación en función de las calificaciones de usuarios similares. Dependiendo de las elecciones que haga, terminará con un tipo de enfoque de filtrado colaborativo.\n",
    "\n",
    "- Memory Based\n",
    "- Model Based\n",
    "    - Reducción de dimensionalidad\n",
    "    - Algoritmos de Factorización de Matrices\n",
    "\n",
    "\n",
    "Una cosa importante a tener en cuenta es que en un enfoque basado únicamente en el filtrado colaborativo, **la similitud NO se calcula utilizando factores como la edad de los usuarios, el género de la película o cualquier otro dato sobre usuarios o elementos**. Se calcula únicamente sobre la base de la calificación (explícita o implícita) que un usuario otorga a un elemento.\n",
    "\n",
    "\n",
    "La tercera pregunta sobre cómo medir la precisión de sus predicciones tiene múltiples respuestas, que incluyen técnicas de cálculo de errores que se pueden usar en muchos lugares y no solo recomendaciones basadas en filtrado colaborativo.\n",
    "\n",
    "Uno de los enfoques para medir la precisión de su resultado es el error cuadrático medio (RMSE), en el que predice calificaciones para un conjunto de datos de prueba de pares de elementos de usuario cuyos valores de calificación ya se conocen. La diferencia entre el valor conocido y el valor predicho sería el error. Eleve al cuadrado todos los valores de error para el conjunto de prueba, encuentre el promedio (o la media) y luego saque la raíz cuadrada de ese promedio para obtener el RMSE.\n",
    "\n",
    "Otra métrica para medir la precisión es el error absoluto medio (MAE), en el que encuentra la magnitud del error al encontrar su valor absoluto y luego tomar el promedio de todos los valores de error.\n",
    "\n",
    "### PREGUNTA: QUE PROBLEMA PRESENTAN ESTAS METRICAS?\n"
   ]
  },
  {
   "cell_type": "markdown",
   "metadata": {
    "pycharm": {
     "name": "#%% md\n"
    }
   },
   "source": [
    "### Memory Based\n",
    "- Encontrar **usuarios similares** basados en el rating: Medidas de similaridad (Distancia Euclidiana, Coseno de similaridad, coseno centrado). Remover biases.\n",
    "- Predicción:\n",
    "    - **Basado en el usuario:** para un usuario **U**, con un conjunto de usuarios similares (determinados en función de los vectores de calificación que consisten en las calificaciones de elementos), la calificación de un elemento **I**, que no ha sido calificado por **U**, se encuentra seleccionando **N** usuarios más similares quiénes han calificado el elemento **I** y se calcula la calificación en función de estas **N** calificaciones.\n",
    "      - Fórmula: $R_U =$\n",
    "    - **Basado en elementos:** para un elemento **I**, con un conjunto de elementos similares (determinados en función de los vectores de calificación que consisten en las calificaciones recibidas de los usuarios), la calificación de un usuario **U**, que no ha calificado el elemento **I**, se encuentra seleccionando **N** elementos de la lista de similitud que han sido calificadas por **U** y calculando la calificación con base a estas **N** calificaciones.\n",
    "\n",
    "**NOTA:** Amazon desarrolló el filtrado colaborativo basado en elementos. En un sistema donde hay más usuarios que elementos, el filtrado basado en elementos es más rápido y más estable que el basado en usuarios. Es efectivo porque, por lo general, la calificación promedio que recibe un elemento no cambia tan rápido como la calificación promedio otorgada por un usuario a diferentes elementos. También se sabe que funciona mejor que el enfoque basado en el usuario cuando la matriz de calificaciones es escasa.\n",
    "\n",
    "Sin embargo, el enfoque basado en elementos funciona mal para conjuntos de datos con elementos relacionados con la navegación o el entretenimiento, como **MovieLens**, donde las recomendaciones que brinda parecen muy obvias para los usuarios objetivo. Dichos conjuntos de datos obtienen mejores resultados con técnicas de **factorización matricial**, o con **recomendadores híbridos** que también tienen en cuenta el contenido de los datos como el género mediante el uso de filtrado basado en contenido."
   ]
  },
  {
   "cell_type": "markdown",
   "metadata": {
    "pycharm": {
     "name": "#%% md\n"
    }
   },
   "source": [
    "### Model Based\n",
    "\n",
    "#### Factorización Matricial\n",
    "Videos:\n",
    "https://campus.datacamp.com/courses/recommendation-engines-in-pyspark/how-does-als-work?ex=4\n",
    "https://campus.datacamp.com/courses/recommendation-engines-in-pyspark/how-does-als-work?ex=7"
   ]
  },
  {
   "cell_type": "markdown",
   "metadata": {
    "pycharm": {
     "name": "#%% md\n"
    }
   },
   "source": []
  },
  {
   "cell_type": "markdown",
   "metadata": {
    "pycharm": {
     "name": "#%% md\n"
    }
   },
   "source": [
    "![](https://miro.medium.com/max/4800/1*7uW5hLXztSu_FOmZOWpB6g.png)"
   ]
  },
  {
   "cell_type": "markdown",
   "metadata": {
    "pycharm": {
     "name": "#%% md\n"
    }
   },
   "source": [
    "## Desarrollo del modelo!\n",
    "\n",
    "Ahora sí, vamos a lo divertido.\n",
    "\n",
    "Seguiremos la guía oficial de la librería `surprise`\n",
    "\n",
    "https://surprise.readthedocs.io/en/stable/getting_started.html#basic-usage"
   ]
  },
  {
   "cell_type": "code",
   "execution_count": 4,
   "metadata": {
    "pycharm": {
     "name": "#%%\n"
    }
   },
   "outputs": [
    {
     "name": "stdout",
     "output_type": "stream",
     "text": [
      "RMSE: 0.8728\n"
     ]
    },
    {
     "data": {
      "text/plain": "0.8728355838495945"
     },
     "execution_count": 4,
     "metadata": {},
     "output_type": "execute_result"
    }
   ],
   "source": [
    "from surprise import accuracy, Dataset, SVD, Reader\n",
    "from surprise.model_selection import train_test_split\n",
    "import pandas as pd\n",
    "\n",
    "df = pd.read_csv(\"ml-latest-small/ratings.csv\")\n",
    "\n",
    "# A reader is still needed but only the rating_scale param is requiered.\n",
    "reader = Reader(rating_scale=(1, 5))\n",
    "\n",
    "# The columns must correspond to user id, item id and ratings (in that order).\n",
    "data = Dataset.load_from_df(df[[\"userId\", \"movieId\", \"rating\"]], reader)\n",
    "\n",
    "# sample random trainset and testset\n",
    "# test set is made of 25% of the ratings.\n",
    "trainset, testset = train_test_split(data, test_size=0.25)\n",
    "\n",
    "# We'll use the famous SVD algorithm.\n",
    "algo = SVD()\n",
    "\n",
    "# Train the algorithm on the trainset, and predict ratings for the testset\n",
    "algo.fit(trainset)\n",
    "predictions = algo.test(testset)\n",
    "\n",
    "# Then compute RMSE\n",
    "accuracy.rmse(predictions)"
   ]
  },
  {
   "cell_type": "code",
   "execution_count": 23,
   "metadata": {
    "pycharm": {
     "name": "#%%\n"
    }
   },
   "outputs": [],
   "source": [
    "import pickle\n",
    "with open('modelIris.pickle', 'wb') as file:\n",
    "    pickle.dump(knn, file)"
   ]
  },
  {
   "cell_type": "code",
   "execution_count": 24,
   "outputs": [],
   "source": [
    "with open(\"modelIris.pickle\", \"rb\") as openfile:\n",
    "    model1 = pickle.load(openfile)\n"
   ],
   "metadata": {
    "collapsed": false,
    "pycharm": {
     "name": "#%%\n"
    }
   }
  },
  {
   "cell_type": "code",
   "execution_count": 21,
   "outputs": [],
   "source": [
    "import numpy as np\n",
    "from sklearn import datasets\n",
    "iris_X, iris_y = datasets.load_iris(return_X_y=True)"
   ],
   "metadata": {
    "collapsed": false,
    "pycharm": {
     "name": "#%%\n"
    }
   }
  },
  {
   "cell_type": "code",
   "execution_count": 22,
   "outputs": [
    {
     "data": {
      "text/plain": "KNeighborsClassifier()",
      "text/html": "<style>#sk-container-id-1 {color: black;background-color: white;}#sk-container-id-1 pre{padding: 0;}#sk-container-id-1 div.sk-toggleable {background-color: white;}#sk-container-id-1 label.sk-toggleable__label {cursor: pointer;display: block;width: 100%;margin-bottom: 0;padding: 0.3em;box-sizing: border-box;text-align: center;}#sk-container-id-1 label.sk-toggleable__label-arrow:before {content: \"▸\";float: left;margin-right: 0.25em;color: #696969;}#sk-container-id-1 label.sk-toggleable__label-arrow:hover:before {color: black;}#sk-container-id-1 div.sk-estimator:hover label.sk-toggleable__label-arrow:before {color: black;}#sk-container-id-1 div.sk-toggleable__content {max-height: 0;max-width: 0;overflow: hidden;text-align: left;background-color: #f0f8ff;}#sk-container-id-1 div.sk-toggleable__content pre {margin: 0.2em;color: black;border-radius: 0.25em;background-color: #f0f8ff;}#sk-container-id-1 input.sk-toggleable__control:checked~div.sk-toggleable__content {max-height: 200px;max-width: 100%;overflow: auto;}#sk-container-id-1 input.sk-toggleable__control:checked~label.sk-toggleable__label-arrow:before {content: \"▾\";}#sk-container-id-1 div.sk-estimator input.sk-toggleable__control:checked~label.sk-toggleable__label {background-color: #d4ebff;}#sk-container-id-1 div.sk-label input.sk-toggleable__control:checked~label.sk-toggleable__label {background-color: #d4ebff;}#sk-container-id-1 input.sk-hidden--visually {border: 0;clip: rect(1px 1px 1px 1px);clip: rect(1px, 1px, 1px, 1px);height: 1px;margin: -1px;overflow: hidden;padding: 0;position: absolute;width: 1px;}#sk-container-id-1 div.sk-estimator {font-family: monospace;background-color: #f0f8ff;border: 1px dotted black;border-radius: 0.25em;box-sizing: border-box;margin-bottom: 0.5em;}#sk-container-id-1 div.sk-estimator:hover {background-color: #d4ebff;}#sk-container-id-1 div.sk-parallel-item::after {content: \"\";width: 100%;border-bottom: 1px solid gray;flex-grow: 1;}#sk-container-id-1 div.sk-label:hover label.sk-toggleable__label {background-color: #d4ebff;}#sk-container-id-1 div.sk-serial::before {content: \"\";position: absolute;border-left: 1px solid gray;box-sizing: border-box;top: 0;bottom: 0;left: 50%;z-index: 0;}#sk-container-id-1 div.sk-serial {display: flex;flex-direction: column;align-items: center;background-color: white;padding-right: 0.2em;padding-left: 0.2em;position: relative;}#sk-container-id-1 div.sk-item {position: relative;z-index: 1;}#sk-container-id-1 div.sk-parallel {display: flex;align-items: stretch;justify-content: center;background-color: white;position: relative;}#sk-container-id-1 div.sk-item::before, #sk-container-id-1 div.sk-parallel-item::before {content: \"\";position: absolute;border-left: 1px solid gray;box-sizing: border-box;top: 0;bottom: 0;left: 50%;z-index: -1;}#sk-container-id-1 div.sk-parallel-item {display: flex;flex-direction: column;z-index: 1;position: relative;background-color: white;}#sk-container-id-1 div.sk-parallel-item:first-child::after {align-self: flex-end;width: 50%;}#sk-container-id-1 div.sk-parallel-item:last-child::after {align-self: flex-start;width: 50%;}#sk-container-id-1 div.sk-parallel-item:only-child::after {width: 0;}#sk-container-id-1 div.sk-dashed-wrapped {border: 1px dashed gray;margin: 0 0.4em 0.5em 0.4em;box-sizing: border-box;padding-bottom: 0.4em;background-color: white;}#sk-container-id-1 div.sk-label label {font-family: monospace;font-weight: bold;display: inline-block;line-height: 1.2em;}#sk-container-id-1 div.sk-label-container {text-align: center;}#sk-container-id-1 div.sk-container {/* jupyter's `normalize.less` sets `[hidden] { display: none; }` but bootstrap.min.css set `[hidden] { display: none !important; }` so we also need the `!important` here to be able to override the default hidden behavior on the sphinx rendered scikit-learn.org. See: https://github.com/scikit-learn/scikit-learn/issues/21755 */display: inline-block !important;position: relative;}#sk-container-id-1 div.sk-text-repr-fallback {display: none;}</style><div id=\"sk-container-id-1\" class=\"sk-top-container\"><div class=\"sk-text-repr-fallback\"><pre>KNeighborsClassifier()</pre><b>In a Jupyter environment, please rerun this cell to show the HTML representation or trust the notebook. <br />On GitHub, the HTML representation is unable to render, please try loading this page with nbviewer.org.</b></div><div class=\"sk-container\" hidden><div class=\"sk-item\"><div class=\"sk-estimator sk-toggleable\"><input class=\"sk-toggleable__control sk-hidden--visually\" id=\"sk-estimator-id-1\" type=\"checkbox\" checked><label for=\"sk-estimator-id-1\" class=\"sk-toggleable__label sk-toggleable__label-arrow\">KNeighborsClassifier</label><div class=\"sk-toggleable__content\"><pre>KNeighborsClassifier()</pre></div></div></div></div></div>"
     },
     "execution_count": 22,
     "metadata": {},
     "output_type": "execute_result"
    }
   ],
   "source": [
    "np.random.seed(0)\n",
    "indices = np.random.permutation(len(iris_X))\n",
    "iris_X_train = iris_X[indices[:-10]]\n",
    "iris_y_train = iris_y[indices[:-10]]\n",
    "iris_X_test = iris_X[indices[-10:]]\n",
    "iris_y_test = iris_y[indices[-10:]]\n",
    "# Create and fit a nearest-neighbor classifier\n",
    "from sklearn.neighbors import KNeighborsClassifier\n",
    "knn = KNeighborsClassifier()\n",
    "knn.fit(iris_X_train, iris_y_train)\n",
    "KNeighborsClassifier()"
   ],
   "metadata": {
    "collapsed": false,
    "pycharm": {
     "name": "#%%\n"
    }
   }
  },
  {
   "cell_type": "code",
   "execution_count": 36,
   "outputs": [
    {
     "data": {
      "text/plain": "array([2])"
     },
     "execution_count": 36,
     "metadata": {},
     "output_type": "execute_result"
    }
   ],
   "source": [
    "knn.predict([[1.4,0.4,5.1, 3.5]])"
   ],
   "metadata": {
    "collapsed": false,
    "pycharm": {
     "name": "#%%\n"
    }
   }
  }
 ],
 "metadata": {
  "kernelspec": {
   "display_name": "Python 3 (ipykernel)",
   "language": "python",
   "name": "python3"
  },
  "language_info": {
   "codemirror_mode": {
    "name": "ipython",
    "version": 3
   },
   "file_extension": ".py",
   "mimetype": "text/x-python",
   "name": "python",
   "nbconvert_exporter": "python",
   "pygments_lexer": "ipython3",
   "version": "3.9.13"
  }
 },
 "nbformat": 4,
 "nbformat_minor": 1
}