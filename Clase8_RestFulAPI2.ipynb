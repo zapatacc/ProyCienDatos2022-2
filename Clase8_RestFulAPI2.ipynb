{
 "cells": [
  {
   "cell_type": "markdown",
   "metadata": {
    "pycharm": {
     "name": "#%% md\n"
    }
   },
   "source": [
    "# RestFul API - FastAPI\n",
    "<img style=\"float: left; margin: 15px 15px 15px 15px;\" src=\"https://fastapi.tiangolo.com/img/logo-margin/logo-teal.png\" width=\"180\" height=\"50\" />\n",
    "\n",
    "[FastAPI](https://fastapi.tiangolo.com/) es un web framework moderno y rápido (de alto rendimiento) para construir APIs con `Python 3.6+` basado en las anotaciones de tipos estándar de `Python`.\n",
    "\n",
    "Sus características principales son:\n",
    "\n",
    "- **Rapidez:** Alto rendimiento, a la par con `NodeJS` y `Go` (gracias a Starlette y Pydantic). Uno de los frameworks de Python más rápidos.\n",
    "- **Rápido de programar:** Incrementa la velocidad de desarrollo entre 200% y 300%.\n",
    "- **Menos errores:** Reduce los errores humanos (de programador) aproximadamente un 40%.\n",
    "- **Intuitivo:** Gran soporte en los editores con auto completado en todas partes. Gasta menos tiempo debugging.\n",
    "- **Fácil:** Está diseñado para ser fácil de usar y aprender. Gastando menos tiempo leyendo documentación.\n",
    "- **Corto:** Minimiza la duplicación de código. Múltiples funcionalidades con cada declaración de parámetros. Menos errores.\n",
    "- **Robusto:** Crea código listo para producción con documentación automática interactiva.\n",
    "- **Basado en estándares:** Basado y totalmente compatible con los estándares abiertos para APIs: OpenAPI (conocido previamente como Swagger) y JSON Schema.\n",
    "\n",
    "**FastAPI** está ganando popularidad entre los Frameworks de `Python`. Su sintaxis también es similar a la de `Flask`, por lo que es fácil cambiar a ella si ha usado `Flask` antes.\n",
    "\n",
    "[https://christophergs.com/python/2021/06/16/python-flask-fastapi/](https://christophergs.com/python/2021/06/16/python-flask-fastapi/)\n",
    "\n",
    "![](https://christophergs.com/assets/images/fastapi_flask_post/benchmarks.jpeg)"
   ]
  },
  {
   "cell_type": "markdown",
   "metadata": {
    "pycharm": {
     "name": "#%% md\n"
    }
   },
   "source": [
    "## Type Hints\n",
    "`Python` tiene soporte opcional para \"type hints\".\n",
    "\n",
    "Estos \"type hints\"son una sintáxis especial que permite declarar el tipo de dato de una variable.\n",
    "\n",
    "Declarando los tipos de variables, los editores y herramientas pueden darnos mejor soporte.\n",
    "\n",
    "`FastAPI` es basado en estos `type hints`, ya que proveen muchas ventajas y beneficios."
   ]
  },
  {
   "cell_type": "code",
   "execution_count": null,
   "outputs": [],
   "source": [
    "def get_full_name(first_name: str, last_name: str):\n",
    "    full_name = first_name. + \" \" + last_name.title()\n",
    "    return full_name\n",
    "\n",
    "print(get_full_name('cristiaN', 'zaPaTa'))"
   ],
   "metadata": {
    "collapsed": false,
    "pycharm": {
     "name": "#%%\n"
    }
   }
  },
  {
   "cell_type": "code",
   "execution_count": null,
   "outputs": [],
   "source": [
    "def get_name_with_age(name, age):\n",
    "    name_with_age = name + \" is this old: \" + age\n",
    "    return name_with_age\n",
    "\n",
    "get_name_with_age('Cristian', 31)"
   ],
   "metadata": {
    "collapsed": false,
    "pycharm": {
     "name": "#%%\n"
    }
   }
  },
  {
   "cell_type": "markdown",
   "source": [
    "### Qué pasa con las estructuras de datos?\n",
    "Hay algunas estructuras de datos que pueden contener otros valores, como `dict`, `list`, `set` y `tuple`. Y los valores internos también pueden tener su propio tipo.\n",
    "\n",
    "Estos tipos que tienen tipos internos se denominan tipos \"genéricos\". Y es posible declararlos, incluso con sus tipos internos.\n",
    "\n",
    "Para declarar esos tipos y los tipos internos, puede usar el módulo estándar de Python `typing`. Este módulo existe específicamente para admitir estas sugerencias de tipo.\n",
    "\n",
    "La sintaxis mediante `typing` es compatible con todas las versiones de `Python`, desde `Python` 3.6 hasta las últimas, pasando por `Python` 3.9, Python 3.10, etc.\n",
    "\n",
    "A medida que `Python` avanza, las versiones más nuevas vienen con soporte mejorado para estas  “type hints” y, en muchos casos, ni siquiera necesitará importar y usar el módulo de `typing` para declarar las  “type hints”.\n",
    "\n",
    "[https://fastapi.tiangolo.com/python-types/#generic-types-with-type-parameters](https://fastapi.tiangolo.com/python-types/#generic-types-with-type-parameters)"
   ],
   "metadata": {
    "collapsed": false,
    "pycharm": {
     "name": "#%% md\n"
    }
   }
  },
  {
   "cell_type": "code",
   "execution_count": null,
   "outputs": [],
   "source": [
    "from typing im\n",
    "\n",
    "# Listas\n",
    "def process_items(items: list[str]):\n",
    "    for item in items:\n",
    "        print(item)\n",
    "\n",
    "# Tuplas y conjuntos\n",
    "def process_items(items_t: tuple[int, int, str], items_s: set[bytes]):\n",
    "    return items_t, items_s\n",
    "\n",
    "# Diccionarios\n",
    "def process_items(prices: dict[str, float]):\n",
    "    for item_name, item_price in prices.items():\n",
    "        print(item_name)\n",
    "        print(item_price)\n",
    "\n",
    "# Union (A partir de Python 3.10 no es necesario importar)\n",
    "from typing import Union\n",
    "\n",
    "# Pra Python 3.10 Union[int, str]  ----> int | str\n",
    "def process_item(item: Union[int, str]):\n",
    "    print(item)\n",
    "\n",
    "# Opcional (None)\n",
    "# Optional[Algo] es un shortcut para Union[Algo, None], son equivalentes.\n",
    "from typing import Optional\n",
    "\n",
    "def say_hi(name: Optional[str] = None):\n",
    "    if name is not None:\n",
    "        print(f\"Hey {name}!\")\n",
    "    else:\n",
    "        print(\"Hello World\")"
   ],
   "metadata": {
    "collapsed": false,
    "pycharm": {
     "name": "#%%\n"
    }
   }
  },
  {
   "cell_type": "markdown",
   "metadata": {
    "pycharm": {
     "name": "#%% md\n"
    }
   },
   "source": [
    "#### Usando `Union` u `Optional`\n",
    "\n",
    "Si usamos `Python` 3.9 o inferior:\n",
    "\n",
    "- Evitar usar `Optional[Algo]`\n",
    "- En lugar, usar `Union[Algo, None]`\n",
    "\n",
    "Ambos son equivalentes, y hacen lo mismo, pero `Optional` nos dice que la variable es **OPCIONAL**, pero en realidad queremos que la variable \"pueda ser `None`\", y aunque no sea opcional y que sea requerida.\n",
    "\n",
    "`Union[Algo, None]` es más explícito.\n"
   ]
  },
  {
   "cell_type": "code",
   "execution_count": 12,
   "metadata": {
    "pycharm": {
     "name": "#%%\n"
    }
   },
   "outputs": [
    {
     "name": "stdout",
     "output_type": "stream",
     "text": [
      "Hey None!\n"
     ]
    }
   ],
   "source": [
    "from typing import Union\n",
    "\n",
    "def say_hi(name: Union[str, None] = None):\n",
    "    print(f\"Hey {name}!\")\n",
    "\n",
    "say_hi()"
   ]
  },
  {
   "cell_type": "code",
   "execution_count": null,
   "metadata": {
    "pycharm": {
     "name": "#%%\n"
    }
   },
   "outputs": [],
   "source": [
    "# Para Python 3.10\n",
    "# def say_hi(name: str | None):\n",
    "#     print(f\"Hey {name}!\")"
   ]
  },
  {
   "cell_type": "markdown",
   "metadata": {
    "pycharm": {
     "name": "#%% md\n"
    }
   },
   "source": [
    "### Clases como tipos\n",
    "Lectura obligo-recomendada\n",
    "[https://fastapi.tiangolo.com/python-types/#pydantic-models](https://fastapi.tiangolo.com/python-types/#pydantic-models)"
   ]
  },
  {
   "cell_type": "markdown",
   "metadata": {
    "pycharm": {
     "name": "#%% md\n"
    }
   },
   "source": [
    "### Manos a la obra!\n",
    "Primero que todo, vamos a crear un nuevo proyecto, con un ambiente virtual.\n",
    "\n",
    "Llamemos el proyecto `api-test-fastapi`.\n",
    "\n",
    "Dentro del ambiente virtual, instalaremos estos dos paquetes necesarios.\n",
    "\n",
    "`pip install fastapi`\n",
    "`pip install \"uvicorn[standard]\"`\n",
    "\n",
    "O también se puede usar el siguiente comando, el cual instala ambas paqueterías\n",
    "\n",
    "`pip install \"fastapi[all]\"`\n"
   ]
  },
  {
   "cell_type": "code",
   "execution_count": null,
   "metadata": {
    "pycharm": {
     "name": "#%%\n"
    }
   },
   "outputs": [],
   "source": [
    "if __name__ == \"__main__\":\n",
    "    uvicorn.run(\"main:app\", host=\"0.0.0.0\", port=5000, log_level=\"info\", reload=False)"
   ]
  },
  {
   "cell_type": "markdown",
   "metadata": {
    "pycharm": {
     "name": "#%% md\n"
    }
   },
   "source": [
    "- Hola mundo\n",
    "- Parámetros de ruta (Path parameters) - Validación de datos - Msotrar error.\n",
    "- Parámetros de query (Query parameters)\n",
    "    - Query: `Union[str, None]`\n",
    "    - Conversión de tipos (bool)\n",
    "    - Multiple path parameters con query parameters - user_id, item_id\n",
    "    - Query parameter requerido. Diferencia. Mostrar error.\n",
    "- Request Body - Combinación de los 3 tipos de parámetros.\n",
    "- Docs"
   ]
  },
  {
   "cell_type": "code",
   "execution_count": null,
   "metadata": {
    "pycharm": {
     "name": "#%%\n"
    }
   },
   "outputs": [],
   "source": [
    "from typing import Union\n",
    "\n",
    "from fastapi import FastAPI\n",
    "from pydantic import BaseModel\n",
    "\n",
    "\n",
    "class Item(BaseModel):\n",
    "    name: str\n",
    "    description: Union[str, None] = None\n",
    "    price: float\n",
    "    tax: Union[float, None] = None\n",
    "\n",
    "\n",
    "app = FastAPI()\n",
    "\n",
    "\n",
    "@app.post(\"/items/\")\n",
    "async def create_item(item: Item):\n",
    "    return item\n"
   ]
  },
  {
   "cell_type": "markdown",
   "metadata": {
    "pycharm": {
     "name": "#%% md\n"
    }
   },
   "source": [
    "### Tarea 3\n",
    "Crear una nueva API, la cuál contenga cuatro endpoints con las siguientes consideraciones:\n",
    "\n",
    "1. Un endpoint para crear un diccionario en donde las llaves de dicho diccionario sea un id de tipo entero como identificador único para una lista de usuarios. El valor de dicha llave será otro diccionario con la siguiente estructura:\n",
    "    ```\n",
    "    {\"user_name\": \"name\",\n",
    "    \"user_id\": id,\n",
    "    \"user_email\": \"email\",\n",
    "    \"age\" (optiona): age,\n",
    "    \"recommendations\": list[str],\n",
    "    \"ZIP\" (optional): ZIP\n",
    "    }\n",
    "    ```\n",
    "    Cada vez que se haga un request a este endpoint, se debe actualizar el diccionario. Hint: Definir un diccionario vacío fuera del endpoint.\n",
    "    La respuesta de este endpoint debe enviar el id del usuario creado y una descripción de usuario creado exitosamente.\n",
    "\n",
    "2. Si se envía datos con un id ya repetido, se debe regresar un mensaje de error que mencione este hecho.\n",
    "3. Un endpoint para actualizar la información de un usuario específico buscándolo por id. Si el id no existe, debe regresar un mensaje de error que mencione este hecho.\n",
    "4. Un endpoint para obtener la información de un usuario específico buscándolo por id. Si el id no existe, debe regresar un mensaje de error que mencione este hecho.\n",
    "5. Un endpoint para eliminar la información de un usuario específico buscándolo por id. Si el id no existe, debe regresar un mensaje de error que mencione este hecho."
   ]
  }
 ],
 "metadata": {
  "kernelspec": {
   "display_name": "Python 3 (ipykernel)",
   "language": "python",
   "name": "python3"
  },
  "language_info": {
   "codemirror_mode": {
    "name": "ipython",
    "version": 3
   },
   "file_extension": ".py",
   "mimetype": "text/x-python",
   "name": "python",
   "nbconvert_exporter": "python",
   "pygments_lexer": "ipython3",
   "version": "3.9.13"
  }
 },
 "nbformat": 4,
 "nbformat_minor": 1
}