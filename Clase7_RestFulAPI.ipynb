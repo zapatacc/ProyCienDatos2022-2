{
 "cells": [
  {
   "cell_type": "markdown",
   "metadata": {
    "pycharm": {
     "name": "#%% md\n"
    }
   },
   "source": [
    "# API RestFul\n",
    "[https://aws.amazon.com/es/what-is/restful-api/](https://aws.amazon.com/es/what-is/restful-api/)\n",
    "\n",
    "Interfaz que dos sistemas de computación utilizan para **intercambiar** información de manera segura a través de Internet.\n",
    "\n",
    "La mayoría de las aplicaciones (para empresas) deben comunicarse con otras aplicaciones **internas** o de **terceros** para llevar a cabo varias tareas.\n",
    "\n",
    "Ejemplo:\n",
    "+ **Generar nóminas mensuales:** su sistema interno de cuentas debe compartir datos con el sistema bancario de su cliente para automatizar la facturación y comunicarse con una aplicación interna de planillas de horarios.\n",
    "+ ...\n",
    "\n",
    "Las API RESTful admiten este intercambio de información porque siguen estándares de comunicación de software seguros, confiables y eficientes.\n",
    "___"
   ]
  },
  {
   "cell_type": "markdown",
   "metadata": {
    "pycharm": {
     "name": "#%% md\n"
    }
   },
   "source": [
    "## ¿Qué es una API?\n",
    "\n",
    "Una **Interfaz de Programa de Aplicación** (API) define las reglas que se deben seguir para comunicarse con otros sistemas de software.\n",
    "\n",
    "Los desarrolladores exponen o crean una **API** para que otras aplicaciones puedan comunicarse con sus aplicaciones mediante programación.\n",
    "\n",
    "+ La aplicación de planilla de horarios expone una API que solicita el nombre completo de un empleado y un rango de fechas.\n",
    "+ Cuando recibe esta información, procesa internamente la planilla de horarios del empleado y devuelve la cantidad de horas trabajadas en ese rango de fechas.\n",
    "\n",
    "Se puede pensar en una API web como una puerta de enlace entre los clientes y los recursos de la Web.\n",
    "\n",
    "![](https://www.academiaweb.ca/wp-content/uploads/2020/07/api-visual.png)\n",
    "### Clientes\n",
    "\n",
    "+ Usuarios que desean acceder a información desde la Web.\n",
    "+ Persona o un sistema de software que utiliza la API.\n",
    "\n",
    "Por ejemplo, los desarrolladores pueden escribir programas que accedan a los datos del tiempo desde un sistema de clima. También se puede acceder a los mismos datos desde el navegador cuando se visita directamente el sitio web de clima.\n",
    "\n",
    "### Recursos\n",
    "\n",
    "+ Información que diferentes aplicaciones proporcionan a sus clientes.\n",
    "+ Pueden ser imágenes, videos, texto, números o cualquier tipo de datos.\n",
    "+ La máquina encargada de entregar el recurso al cliente también recibe el nombre de servidor.\n",
    "+ Las organizaciones utilizan las API para compartir recursos y proporcionar servicios web, a la vez que mantienen la seguridad, el control y la autenticación.\n",
    "+ Las API las ayudan a determinar qué clientes obtienen acceso a recursos internos específicos.\n",
    "\n",
    "\n",
    "![](https://pbs.twimg.com/media/FD2uneUXMAQlufJ?format=jpg&name=medium)\n",
    "____\n"
   ]
  },
  {
   "cell_type": "markdown",
   "metadata": {
    "pycharm": {
     "name": "#%% md\n"
    }
   },
   "source": [
    "## ¿Qué es REST?\n",
    "\n",
    "+ La **transferencia de estado representacional** (REST) es una arquitectura de software que impone condiciones sobre cómo debe funcionar una **API**.\n",
    "+ REST se creó como una guía para administrar la comunicación en una red compleja (Internet).\n",
    "+ Es posible utilizar una arquitectura basada en REST para admitir comunicaciones confiables y de alto rendimiento a escala.\n",
    "+ Se puede implementar y modificar fácilmente, lo que brinda visibilidad y portabilidad entre plataformas a cualquier sistema de API.\n",
    "+ Se pueden diseñar API por medio de varias arquitecturas diferentes.\n",
    "+ Las API que siguen el estilo arquitectónico de REST se llaman API REST.\n",
    "+ Los servicios web que implementan una arquitectura de REST son llamados servicios web RESTful.\n",
    "+ El término API RESTful suele referirse a las API web RESTful. Sin embargo, los términos API REST y API RESTful se pueden utilizar de forma intercambiable.\n",
    "\n",
    "A continuación, se presentan algunos de los principios del estilo arquitectónico de REST:\n",
    "- **Interfaz uniforme:** Transferencia de información en un formato estándar.\n",
    "- **Tecnología sin estado:** Todas las solicitudes se deben completar.\n",
    "- **Sistema por capas:** Conexión entre diferentes sistemas\n",
    "- **Almacenamiento en caché:** Almacenar algunas respuestas en la memoria caché del cliente o de un intermediario para mejorar el tiempo de respuesta del servidor\n",
    "___"
   ]
  },
  {
   "cell_type": "markdown",
   "metadata": {
    "pycharm": {
     "name": "#%% md\n"
    }
   },
   "source": [
    "## ¿Qué beneficios ofrecen las API RESTful?\n",
    "\n",
    "+ **Escalabilidad:** REST optimiza las interacciones entre el cliente y el servidor (Caché, tecnología sin estado)\n",
    "+ **Flexibilidad:** Separación entre cliente y servidor. Cambios en la base de datos sin volver a escribir la lógica de la app.\n",
    "+ **Independencia:** De la tecnología que se utiliza. Escribir aplicaciones del lado del cliente o servidor en diferentes lenguajes.\n",
    "___"
   ]
  },
  {
   "cell_type": "markdown",
   "metadata": {
    "pycharm": {
     "name": "#%% md\n"
    }
   },
   "source": [
    "## ¿Cómo funcionan las API RESTful?\n",
    "\n",
    "La función básica de una API RESTful es la misma que navegar por Internet. Cuando requiere un recurso, el cliente se pone en contacto con el servidor mediante la API.\n",
    "\n",
    "Pasos generales para cualquier llamada a la API REST:\n",
    "\n",
    "- El cliente envía una solicitud al servidor. El cliente sigue la documentación de la API para dar formato a la solicitud de una manera que el servidor comprenda.\n",
    "- El servidor autentica al cliente y confirma que este tiene el derecho de hacer dicha solicitud.\n",
    "- El servidor recibe la solicitud y la procesa internamente.\n",
    "- El servidor devuelve una respuesta al cliente. Esta respuesta contiene información que dice al cliente si la solicitud se procesó de manera correcta. La respuesta también incluye cualquier información que el cliente haya solicitado.\n",
    "\n",
    "**Los detalles de la solicitud y la respuesta de la API REST varían un poco en función de cómo los desarrolladores de la API la hayan diseñado.**\n",
    "\n",
    "![](https://www.astera.com/wp-content/uploads/2020/01/rest.png)\n",
    "___"
   ]
  },
  {
   "cell_type": "markdown",
   "metadata": {
    "pycharm": {
     "name": "#%% md\n"
    }
   },
   "source": [
    "## ¿Qué contiene la solicitud del cliente de la API RESTful?\n",
    "\n",
    "Las API RESTful requieren que las solicitudes contengan los siguientes componentes principales:\n",
    "\n",
    "### 1. Identificador único de recursos\n",
    "\n",
    "+ El servidor identifica cada recurso con identificadores únicos de recursos.\n",
    "+ En los servicios REST, el servidor por lo general identifica los recursos mediante el uso de un **localizador uniforme de recursos** (URL).\n",
    "+ El URL especifica la ruta hacia el recurso.\n",
    "+ Un URL es similar a la dirección de un sitio web que se ingresa al navegador para visitar cualquier página web.\n",
    "+ El URL también se denomina punto de conexión (endpoint) de la solicitud y específica con claridad al servidor qué requiere el cliente.\n",
    "\n",
    "### 2. Método\n",
    "[https://developer.mozilla.org/en-US/docs/Web/HTTP/Methods](https://developer.mozilla.org/en-US/docs/Web/HTTP/Methods)\n",
    "\n",
    "Los desarrolladores a menudo implementan API RESTful mediante el uso del protocolo de transferencia de hipertexto (HTTP).\n",
    "\n",
    "Un método de HTTP informa al servidor lo que debe hacer con el recurso. A continuación, se indican cuatro métodos de HTTP comunes:\n",
    "\n",
    "- `GET`: Los clientes utilizan GET para acceder a los recursos que están ubicados en el URL especificado en el servidor. Pueden almacenar en caché las solicitudes GET y enviar parámetros en la solicitud de la API RESTful para indicar al servidor que filtre los datos antes de enviarlos.\n",
    "- `POST`: Los clientes usan POST para enviar datos al servidor. Incluyen la representación de los datos con la solicitud. Enviar la misma solicitud POST varias veces produce el efecto secundario de crear el mismo recurso varias veces.\n",
    "- `PUT`: Los clientes utilizan PUT para actualizar los recursos existentes en el servidor. A diferencia de POST, el envío de la misma solicitud PUT varias veces en un servicio web RESTful da el mismo resultado.\n",
    "-`DELETE`: Los clientes utilizan la solicitud DELETE para eliminar el recurso. Una solicitud DELETE puede cambiar el estado del servidor. Sin embargo, si el usuario no cuenta con la autenticación adecuada, la solicitud fallará.\n",
    "\n",
    "### 3. Encabezados de HTTP\n",
    "\n",
    "Los encabezados de solicitudes son los metadatos que se intercambian entre el cliente y el servidor. Por ejemplo, el encabezado de la solicitud indica el formato de la solicitud y la respuesta, proporciona información sobre el estado de la solicitud, etc.\n",
    "\n",
    "- **Datos:** Las solicitudes de la API REST pueden incluir datos para que los métodos POST, PUT y otros métodos HTTP funcionen de manera correcta.\n",
    "\n",
    "- **Parámetros:** Las solicitudes de la API RESTful pueden incluir parámetros que brindan al servidor más detalles sobre lo que se debe hacer. A continuación, se indican algunos tipos de parámetros diferentes:\n",
    "\n",
    "    - Los parámetros de ruta especifican los detalles del URL.\n",
    "    - Los parámetros de consulta solicitan más información acerca del recurso.\n",
    "    - Los parámetros de cookie autentican a los clientes con rapidez.\n",
    "___\n"
   ]
  },
  {
   "cell_type": "markdown",
   "metadata": {
    "pycharm": {
     "name": "#%% md\n"
    }
   },
   "source": [
    "## ¿Qué contiene la respuesta del servidor de la API RESTful?\n",
    "\n",
    "Los principios de REST requieren que la respuesta del servidor contenga los siguientes componentes principales:\n",
    "\n",
    "### 1. Línea de estado\n",
    "[https://developer.mozilla.org/en-US/docs/Web/HTTP/Status](https://developer.mozilla.org/en-US/docs/Web/HTTP/Status)\n",
    "\n",
    "La línea de estado contiene un código de estado de tres dígitos que comunica si la solicitud se procesó de manera correcta o dio error. Por ejemplo, los códigos 2XX indican el procesamiento correcto, pero los códigos 4XX y 5XX indican errores. Los códigos 3XX indican la redirección de URL.\n",
    "\n",
    "![](http://e-webdevelopment.be/wp-content/uploads/2020/02/seo-http-statuscode.jpg)\n",
    "\n",
    "A continuación, se enumeran algunos códigos de estado comunes:\n",
    "- 200: respuesta genérica de procesamiento correcto\n",
    "- 201: respuesta de procesamiento correcto del método POST\n",
    "- 400: respuesta incorrecta que el servidor no puede procesar\n",
    "- 404: recurso no encontrado\n",
    "\n",
    "![](https://images-cdn.9gag.com/photo/aBgq6LN_700b.jpg)\n",
    "\n",
    "### 2. Cuerpo del mensaje\n",
    "\n",
    "- El cuerpo de la respuesta contiene la representación del recurso.\n",
    "- El servidor selecciona un formato de representación adecuado en función de lo que contienen los encabezados de la solicitud.\n",
    "- Los clientes pueden solicitar información en los formatos **XML** o **JSON**, lo que define cómo se escriben los datos en texto sin formato.\n",
    "- Por ejemplo, si el cliente solicita el nombre y la edad de una persona llamada John, el servidor devuelve una representación JSON como la siguiente:\n",
    "\n",
    "`'{\"name\":\"John\", \"age\":30}'`\n",
    "\n",
    "### 3. Encabezados\n",
    "\n",
    "La respuesta también contiene encabezados o metadatos acerca de la respuesta. Estos brindan más contexto sobre la respuesta e incluyen información como el servidor, la codificación, la fecha y el tipo de contenido.\n",
    "___"
   ]
  },
  {
   "cell_type": "markdown",
   "metadata": {
    "pycharm": {
     "name": "#%% md\n"
    }
   },
   "source": [
    "## ¿Qué son los métodos de autenticación de la API RESTful?\n",
    "\n",
    "+ Un servicio web RESTful debe autenticar las solicitudes antes de poder enviar una respuesta.\n",
    "+ La autenticación es el proceso de verificar una identidad.\n",
    "+ Los clientes de los servicios RESTful deben demostrar su identidad al servidor para establecer confianza.\n",
    "\n",
    "La API RESTful tiene cuatro métodos comunes de autenticación:\n",
    "### 1. Autenticación HTTP\n",
    "\n",
    "HTTP define algunos esquemas de autenticación que se pueden utilizar directamente cuando se implementa la API REST. A continuación, se indican dos de estos esquemas:\n",
    "\n",
    "#### 1.1 Autenticación básica\n",
    "\n",
    "En la autenticación básica, el cliente envía el nombre y la contraseña del usuario en el encabezado de la solicitud. Los codifica con base64, que es una técnica de codificación que convierte el par en un conjunto de 64 caracteres para su transmisión segura.\n",
    "\n",
    "#### 1.2 Autenticación del portador\n",
    "\n",
    "El término autenticación del portador se refiere al proceso de brindar el control de acceso al portador del token. El token del portador suele ser una cadena de caracteres cifrada que genera el servidor como respuesta a una solicitud de inicio de sesión. El cliente envía el token en los encabezados de la solicitud para acceder a los recursos.\n",
    "\n",
    "### 2. Claves de la API\n",
    "\n",
    "+ En este enfoque, el servidor asigna un valor único generado a un cliente por primera vez.\n",
    "+ Cada vez que el cliente intenta acceder a los recursos, utiliza la clave de API única para su verificación.\n",
    "+ Las claves de API son menos seguras debido a que el cliente debe transmitir la clave, lo que la vuelve vulnerable al robo de red.\n",
    "\n",
    "### 3. OAuth\n",
    "\n",
    "- **OAuth** combina contraseñas y tokens para el acceso de inicio de sesión de alta seguridad a cualquier sistema.\n",
    "- El servidor primero solicita una contraseña y luego solicita un token adicional para completar el proceso de autorización.\n",
    "- Puede verificar el token en cualquier momento y, también, a lo largo del tiempo, con un alcance y duración específicos.\n",
    "___"
   ]
  },
  {
   "cell_type": "markdown",
   "metadata": {
    "pycharm": {
     "name": "#%% md\n"
    }
   },
   "source": [
    "## API públicas\n",
    "\n",
    "Vamos a explorar algunas API públicas y ver todos los componentes que acabamos de estudiar.\n",
    "[Opción 1](https://github.com/public-apis/public-apis)\n",
    "[Opción 2](https://github.com/public-api-lists/public-api-lists)\n",
    "\n",
    "Ahora vamos a descargar [postman](https://www.postman.com/downloads/?utm_source=postman-home) y explorar las APIs con esta herramienta."
   ]
  },
  {
   "cell_type": "markdown",
   "metadata": {
    "pycharm": {
     "name": "#%% md\n"
    }
   },
   "source": [
    "## Enlances con información adicional\n",
    "[https://github.com/microsoft/api-guidelines](https://github.com/microsoft/api-guidelines)\n",
    "[https://martinfowler.com/articles/richardsonMaturityModel.html](https://martinfowler.com/articles/richardsonMaturityModel.html)"
   ]
  },
  {
   "cell_type": "markdown",
   "metadata": {
    "pycharm": {
     "name": "#%% md\n"
    }
   },
   "source": [
    "## QUIZ 2 LA SIGUIENTE CLASE, LUNES 12 DE SEPTIEMBRE AL INCIAR LA CLASE.\n",
    "## SERA SOBRE LOS TEMAS: REPASO DE PYTHON Y SISTEMAS DE RECOMENDACION."
   ]
  },
  {
   "cell_type": "code",
   "execution_count": null,
   "outputs": [],
   "source": [],
   "metadata": {
    "collapsed": false,
    "pycharm": {
     "name": "#%%\n"
    }
   }
  }
 ],
 "metadata": {
  "kernelspec": {
   "display_name": "Python 3 (ipykernel)",
   "language": "python",
   "name": "python3"
  },
  "language_info": {
   "codemirror_mode": {
    "name": "ipython",
    "version": 3
   },
   "file_extension": ".py",
   "mimetype": "text/x-python",
   "name": "python",
   "nbconvert_exporter": "python",
   "pygments_lexer": "ipython3",
   "version": "3.9.13"
  }
 },
 "nbformat": 4,
 "nbformat_minor": 1
}