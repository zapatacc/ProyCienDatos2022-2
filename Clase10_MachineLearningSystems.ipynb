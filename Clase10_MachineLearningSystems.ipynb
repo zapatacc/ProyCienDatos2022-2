{
 "cells": [
  {
   "cell_type": "markdown",
   "metadata": {
    "pycharm": {
     "name": "#%% md\n"
    }
   },
   "source": [
    "# Sistemas de Aprendizaje de Máquina (Machine Learning ML)\n",
    "___\n",
    "\n",
    "## Overview de sistemas de Aprendizaje de Máquina\n",
    "\n",
    "### Contexto\n",
    "\n",
    "- En Noviembre de 2016, Google mejoró (notablemente) Google Translate con Deep Learning. Sistema de traducción multilenguaje.\n",
    "\n",
    "- Marcó un hito en la historia del aprendizaje profundo (deep learning) en producción a escala.\n",
    "\n",
    "- Con este único cambio se mejoró el Sistema más que lo que se había mejorado en los últimos 10 años.\n",
    "\n",
    "![](https://media-exp1.licdn.com/dms/image/C4E12AQGx9PxsHwkuOQ/article-cover_image-shrink_720_1280/0/1605067898874?e=1669248000&v=beta&t=jD8ICiD-dtpMPO7tD-nrbT_PV6qNzPzOAXCh-6lCoFQ)\n",
    "\n",
    "- Este hecho renovó el interés en ML y desde entonces, más empresas han buscado soluciones de ML.\n",
    "\n",
    "- En 6 años, ML a encontrado la manera de estar presente en casi cualquier aspecto de nuestras vidas: como acceder a la información, cómo nos comunicamos, como trabajamos, etc… Y en los que se estan investigando actualmente.\n",
    "\n",
    "___"
   ]
  },
  {
   "cell_type": "markdown",
   "metadata": {
    "pycharm": {
     "name": "#%% md\n"
    }
   },
   "source": [
    "## Pregunta: ¿Qué es un sistema de Machine Learning? ¿Son algoritmos de Machine Learning? (Regresión, redes neuronales?)"
   ]
  },
  {
   "cell_type": "markdown",
   "metadata": {
    "pycharm": {
     "name": "#%% md\n"
    }
   },
   "source": [
    ".\n",
    ".\n",
    ".\n",
    ".\n",
    ".\n",
    ".\n",
    ".\n",
    ".\n",
    ".\n",
    ".\n",
    ".\n",
    ".\n",
    ".\n",
    "- Requerimientos del negocio\n",
    "- Interfaz donde usuarios y programadores interactuan con el sistema\n",
    "- Los datos\n",
    "- Lógica para desarrollar, monitorear y actualizar los modelos\n",
    "- Infraestructura\n",
    "- Algo más??\n",
    "\n",
    "### Veamos un gráfico donde se vea más claro todo esto."
   ]
  },
  {
   "cell_type": "markdown",
   "metadata": {
    "pycharm": {
     "name": "#%% md\n"
    }
   },
   "source": [
    "## ¿Cuándo usar Machine Learning?\n",
    "\n",
    "- La adopción de ML en la industria ha crecido gracias a su amplio espectro de aplicaciones.\n",
    "- No es una herramienta mágica (para resolver todos los problemas), a pesar del `hype`.\n",
    "- Incluso para problemas que se pueden solucionar con ML, tal vez no sea la herramienta más óptima.\n",
    "- Antes de empezar un nuevo proyecto: ¿Es necesario ML? ¿Es viable costo-beneficio?\n",
    "\n",
    "\n",
    "### ¿Qué hacen las soliciones de ML?\n",
    "1. **Learn: Que el sistema tenga la capacidad de aprender**\n",
    "    - Una base de datos relacional no es un sistema de ML\n",
    "    - Debe existir `algo` para aprender. (Datos)\n",
    "    - Aprendizaje supervisado tenemos \"*parejas*\" de entradas-salidas. Ejemplo?\n",
    "\n",
    "2. **Complex patterns: Existen patrones para aprender, y son complejos**\n",
    "    - Las soluciones de ML son solo útiles si existen patrones para aprender.\n",
    "    - Nadie (en su sano juicio) invierte tiempo (y dinero) en construir un sistema de ML para predecir la salida de un dado. (No existe un patrón de las salidas - Sí distribuciones)\n",
    "    - Del otro lado, hay patrones en como cambian los precios en la bolsa de valores.\n",
    "    - Aunque el patrón existe, no puede ser muy obvio, o incluso el algoritmo de ML puede no capturarlo. Por ejemplo: Tweets de Elon Musk y el precio del bitcoin.\n",
    "    - Aunque el modelo no haga predicciones correctas, no quiere decir que no existe un patrón.\n",
    "    - Airbnb y un listado de casas con código postal. ¿Ordenar dicha lista necesita un sistema de ML? Lookup table\n",
    "    - Pero si vemos precio de renta vs las características de la casa... ¿Se puede hacer manera manual?\n",
    "    - Veamos un gráfico de **software tradicional** vs **Machine Learning**...\n",
    "    - ML es muy bueno con patrones complejos: detección de objetos, speech recognition.\n",
    "    - Lo que es complejo para las `máquinas` es diferente de lo que es complejo para el humano.\n",
    "\n",
    "3. **Existing data: Los datos están disponibles ó es posible coleccionar (ó acceder) los datos**\n",
    "    - Debido a que ML aprende de los datos, debe existir datos para aprender de ellos.\n",
    "    -  `Zero-shot leraning` (a.k.a zero-data learning) es posible para un sistema de ML hacer buenas predicciones para tareas para las cuales no fueron entrenadas.\n",
    "    - Sin emabrgo, el modelo debió ser entrenado previamente (con datos para otras tareas)\n",
    "    - En el contexto de `Online learning` es posible desplegar un modelo en producción sin entrenarlo en ningún dato, pero irán aprendiendo de datos de entrada en producción.\n",
    "\n",
    "4. **Prediction: Es un problema predictivo**\n",
    "    - Los modelos de ML hacen predicciones, por lo tanto, solo pueden resolver problemas que requieren respuestas predictivas.\n",
    "    - Cuál será el clima mañana? Quién ganará el Super Bowl el próximo año? Qué película querrá ver un usuario?\n",
    "\n",
    "5. **Unseen data: Los datos no vistos (por el modelo) comparten patrones con los datos de entrenamiento**\n",
    "    - Los patrones que aprende un modelo de un los datos de entrenamiento, son útiles si los datos no-vistos también tienen esos patrones.\n",
    "    - Predecir la app más descargada en navidad del 2021 usando datos del 2018. ¿Es lógico esto?\n",
    "    - Deben tener la misma distribución.\n",
    "    - Y cómo se garantiza eso? Respuesta: [Aquí](https://tenor.com/view/bendicion-beatriz-aurora-pinzon-solano-yo-soy-bety-la-fea-persignarse-orar-gif-20213482)\n",
    "        - Suponiendo que el comprotamiento de los usuarios o va a cambiar significativamente de un día para otro.\n",
    "        - Monitoreo. Lo veremos más adelante en el curso.\n",
    "        - Testing en producción.\n",
    "\n",
    "6. **It's repetitive**\n",
    "    - Los humanos somos buenos en aprendizaje con \"pocos ejemplos\". Fotos de gaticos.\n",
    "    - La mayoría de algortimos de ML requieren muuuuchos ejemplos para aprender.\n",
    "    - Cuándo una tarea es repetitiva, cada patrón se repetirá muchas veces, lo cuál hace que el modelo aprenda más fácil dichos patrones.\n",
    "\n",
    "7. **The cost of wrong predictions is cheap**\n",
    "    - Los modelos cometerá errores (al predecir).\n",
    "    - Los sistemas de ML son adecuados cuando el costo de malas predicciones es bajo. Ejemplo: sistemas de recomendación.\n",
    "    - Si las predicciones erróneas pueden ser catastróficas, entonces ML no es la solución más adecuada.\n",
    "    - Sin embargo, puede llegar a serlo si el costo-beneficio de las predicciones sobrepesa el costo de las predicciones erróneas. Ejemplo: Carros autónomos.\n",
    "\n",
    "8. **It's at scale**\n",
    "    - Soluciones de ML a menudo requieren inversión inicial de datos, cómputo, infraestructura y talento, y esto tomaría sentido si podemos usar muchas veces estas soluciones.\n",
    "    - \"A escala\" significa: Hacer muchas predicciones (en un corto periodo de tiempo) - Coleccionar muchos datos (útiles para entrenar el modelo).\n",
    "    - Ejemplo: Predecir quién ganará las elecciones presidenciales de México.\n",
    "___\n"
   ]
  },
  {
   "cell_type": "markdown",
   "metadata": {
    "pycharm": {
     "name": "#%% md\n"
    }
   },
   "source": [
    "## Casos de uso de Machine Learning\n",
    "\n",
    "### Consumer applications\n",
    "Desde mediodados de los 2010, ha existido una explosión de aplicaciones que ha aprovecha el uso de ML para entregar un servicio superior a los consumidores:\n",
    "- Sistemas de recomendación\n",
    "- Escritura predictiva\n",
    "- Recomendación de mejorar tus fotos\n",
    "- Autenticación en el celular con huello o de manera facial\n",
    "- Traducción automática de lenguajes.\n",
    "- Asistentes personales (Alexa, Google Home, Siri)\n",
    "- Cámaras de seguridad\n",
    "- .\n",
    "- .\n",
    "- .\n",
    "- .\n",
    "- .\n",
    "\n",
    "Sin embargo la mayoría de casos de uso del ML estan en el ámbito empresarial:\n",
    "\n",
    "Estado de Machine Learning empresarial en el 2020.\n",
    "\n",
    "![](ML_use_cases.png)\n",
    "\n",
    "- Detección de fraude\n",
    "- Optimización de precios\n",
    "- Demanda del cliente.\n",
    "- Churn prediction.\n",
    "- .\n",
    "-"
   ]
  }
 ],
 "metadata": {
  "kernelspec": {
   "display_name": "Python 3 (ipykernel)",
   "language": "python",
   "name": "python3"
  },
  "language_info": {
   "codemirror_mode": {
    "name": "ipython",
    "version": 3
   },
   "file_extension": ".py",
   "mimetype": "text/x-python",
   "name": "python",
   "nbconvert_exporter": "python",
   "pygments_lexer": "ipython3",
   "version": "3.9.13"
  }
 },
 "nbformat": 4,
 "nbformat_minor": 1
}
