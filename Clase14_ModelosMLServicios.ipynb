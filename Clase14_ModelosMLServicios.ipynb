{
 "cells": [
  {
   "cell_type": "markdown",
   "id": "e030058c",
   "metadata": {
    "pycharm": {
     "name": "#%% md\n"
    }
   },
   "source": [
    "# Desplegando modelos de Machine Learning como servicios\n",
    "___\n",
    "## 1. Servicios encapsulan modelos de Machine Learning\n",
    "\n",
    "### 1.1 **Recordemos**\n",
    "- Un servicio es una abstracción  usada por desarrolladores de software.\n",
    "- La idea de un servicio, es que se puede implementar una interfaz que se puede usar fácilmente que puede ser llamada por cualquier otro programa.\n",
    "- Dichos programas van a recibir resultados de regreso en un formato entendible.\n",
    "- En un servicio, solo la interfaz es expuesta\n",
    "- Los detalles de implementación estan ocultos.\n",
    "![](services.png)\n",
    "___"
   ]
  },
  {
   "cell_type": "markdown",
   "id": "ee159e74",
   "metadata": {
    "pycharm": {
     "name": "#%% md\n"
    }
   },
   "source": [
    "- Servicio es un concepto fundamental en aplicaciones escalables y muy aplicables para modelos de machine learning.\n",
    "- Estamos acostumbrados a construir modelos en diversas herramientas.\n",
    "- Cuando corremos modelos en producción (especialemnte cuando se requiere **escalabilidad**), es de ayuda desplegar estos modelos como servicios."
   ]
  },
  {
   "cell_type": "markdown",
   "id": "5a446ab8",
   "metadata": {
    "pycharm": {
     "name": "#%% md\n"
    }
   },
   "source": [
    "### 1.2 Trabajando con modelos vs servicios\n",
    "\n",
    "**Modelos de Machine Learning**\n",
    "- Lenguaje de desarrollo\n",
    "- Paquetes/librerías usadas para construir el modelo\n",
    "- Comandos específicos del lenguaje\n",
    "- Interpretar los resultados (estructuras de datos específica para el modelo)\n",
    "\n",
    "**Servicios**\n",
    "- No necesitamos saber detalles de la implementación, ni estructura de los comandos/lenguajes.\n",
    "- Se puede usar convenciones conmunmente usadas para trabajar con restful APIs\n",
    "- Llamar el servicio usando HTTP\n",
    "- Recibir resultados en una estructura `json`\n",
    "- Se debe saber/conocer la estructura de la interfaz. Cómo saber esto? **DOCUMENTACION!!**\n",
    "- Conocer la URL HTTP (cómo le llamamos a esto?)\n",
    "- Lista de parámetro y tipos (O el request body)\n",
    "- El cuerpo de la respuesta - json\n",
    "- Herramienta para generar documentación: [swagger](https://swagger.io/)\n",
    "- Y lo mejor.... `FastAPI` ya la genera!!! :D\n",
    "\n"
   ]
  },
  {
   "cell_type": "markdown",
   "id": "b2fff420",
   "metadata": {
    "pycharm": {
     "name": "#%% md\n"
    }
   },
   "source": [
    "## 2. Buenas prácticas para construir APIs\n",
    "- Nombrar los endpoint con nombres informativos. `classify`, `recommender`\n",
    "- Usar herramientas de API: `Flask`, `Django`, `FastAPI`\n",
    "- Incluir el término `api` en la ruta del endpoint\n",
    "- Incluir la versión del modelo\n",
    "- usar API keys para acceder a la API"
   ]
  },
  {
   "cell_type": "markdown",
   "source": [
    "## Modelo Iris\n",
    "\n",
    "Vamos a implementar un servicio para un modelo ya entrenado. Descargarlo del moodle.\n",
    "\n",
    "Vamos a crear una API con FastAPI, crear un ambiente virtual, instalar los paquetes necesarios y crear un endpoint para hacer predicciones.\n",
    "\n",
    "El modelo tiene los siguientes parámetros (en ese orden respectivamente):\n",
    "\n",
    "- sepal length (cm), \n",
    "- sepal width (cm),\n",
    "- petal length (cm),\n",
    "- petal width (cm)\n",
    "\n",
    "Las salidas del modelo son:\n",
    "\n",
    "- Setosa - 0, \n",
    "- Versicolour - 1, \n",
    "- Virginica - 2\n",
    "\n",
    "```\n",
    "with open(\"modelIris.pickle\", \"rb\") as openfile:\n",
    "    model1 = pickle.load(openfile)\n",
    "```"
   ],
   "metadata": {
    "collapsed": false,
    "pycharm": {
     "name": "#%% md\n"
    }
   }
  },
  {
   "cell_type": "markdown",
   "source": [
    "{ “pl”: “5.1”, “pw”: “3.5”, “sl”: “1.4”, “sw”: “0.4” }"
   ],
   "metadata": {
    "collapsed": false,
    "pycharm": {
     "name": "#%% md\n"
    }
   }
  }
 ],
 "metadata": {
  "kernelspec": {
   "display_name": "Python 3 (ipykernel)",
   "language": "python",
   "name": "python3"
  },
  "language_info": {
   "codemirror_mode": {
    "name": "ipython",
    "version": 3
   },
   "file_extension": ".py",
   "mimetype": "text/x-python",
   "name": "python",
   "nbconvert_exporter": "python",
   "pygments_lexer": "ipython3",
   "version": "3.9.13"
  }
 },
 "nbformat": 4,
 "nbformat_minor": 5
}