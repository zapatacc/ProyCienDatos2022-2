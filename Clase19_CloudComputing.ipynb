{
 "cells": [
  {
   "cell_type": "markdown",
   "metadata": {
    "pycharm": {
     "name": "#%% md\n"
    }
   },
   "source": [
    "## Continuación clase anterior\n",
    "- Volveremos a montar el último deploy realizado junto con un pod de Ubuntu fuera de la red local del deployment:\n",
    "    - Iniciar Docker\n",
    "    - Crear el clúster (`minikube start -drive docker`)\n",
    "    - Desplegar el deployment (`load-balancer.yaml`)\n",
    "    - Desplegar el pod de ubuntu (`ubuntu.yaml`)\n",
    "    - Actualizar las dependencias internas de `Ubuntu`\n",
    "        ```\n",
    "        kubectl exec -it ubuntu -- bash\n",
    "        apt-get update\n",
    "        apt-get upgrade\n",
    "        apt install curl\n",
    "        curl http://hello:8080\n",
    "       ```"
   ]
  },
  {
   "cell_type": "markdown",
   "metadata": {
    "pycharm": {
     "name": "#%% md\n"
    }
   },
   "source": [
    "## Trabajando con imágenes locales\n",
    "Hasta ahora hemos realizado deployments con imágenes que estan en el DockerHub. Pero, Qué pasa si quiero utilizar una imagen local? O una imagen en un repositorio (registro) en mi nube?\n",
    "\n",
    "Para hacerlo de manera local, se debe conectar el registro de imagenes localo, con el registro de imagenes de `minikube`. Para eso, se debe correr el siguiente comando:\n",
    "```\n",
    "eval $(minikube -p minikube docker-env)\n",
    "```\n",
    "\n",
    "Windows\n",
    "```\n",
    "REM @FOR /f \"tokens=*\" %i IN ('minikube -p minikube docker-env --shell cmd') DO @%i\n",
    "```\n",
    "\n",
    "Y seguidamente, construir la imagenes (o imágenes) que se quiere pasar al registro de `minikube`. Nota, esto se debe hacer cada vez qque se quiera volver a ejecutar.\n",
    "___"
   ]
  },
  {
   "cell_type": "markdown",
   "metadata": {
    "pycharm": {
     "name": "#%% md\n"
    }
   },
   "source": [
    "Vamos a usar la API del modelo `iris` que hemos venido usando...\n",
    "\n",
    "```\n",
    "imagePullPolicy: Never\n",
    "```\n",
    "\n",
    "    - Modificar el deployment para cambiar el label de la red interna (y el nombre del deployment y pods)\n",
    "\n",
    "    - Agregar el readiness y el liviness (Qué era esto?)\n",
    "\n",
    "    - Jugar con los puertos"
   ]
  },
  {
   "cell_type": "markdown",
   "metadata": {
    "pycharm": {
     "name": "#%% md\n"
    }
   },
   "source": [
    "# Cloud Computing: Azure\n",
    "\n",
    "- Vamos a crear una cuenta gratuita para estudiantes en Azure:\n",
    "    - [Azure](https://azure.microsoft.com/en-us/free/students/)\n",
    "- Instalar la línea de comando (CLI) de Azure: [Cómo instalar](https://learn.microsoft.com/es-es/cli/azure/install-azure-cli-macos)\n",
    "- Una vez instalado, vamos a registrarnos a través de una línea de comandos:\n",
    "    - `az login`\n",
    "- Vamos a crear un registro de contenedores y subir (pull) una imagen (la de la api de iris)\n",
    "- Vamos a crear un clúster de kubernetes\n",
    "- Vamos a conectar el clúster de kubernetes con nuestra cli local (kubeconfig)\n",
    "    - `az aks get-credentials --resource-group <group name> --name <cluster name> --admin`\n",
    "- Vamos a asociar el registro de contenedores con el clúster de kubernetes\n",
    "    ```\n",
    "    kubectl create secret docker-registry <secret-name> \\\n",
    "        --docker-server=<container-registry-name>.azurecr.io \\\n",
    "        --docker-username=<service-principal-ID> \\\n",
    "        --docker-password=<service-principal-password>\n",
    "    ```\n",
    "- Vamos a crear un manifiesto similar al que ya tenemos, agregando lo siguiente:\n",
    "```\n",
    "apiVersion: v1\n",
    "kind: Service\n",
    "metadata:\n",
    "  name: load-balancer\n",
    "spec:\n",
    "  type: LoadBalancer\n",
    "  ports:\n",
    "  - port: 5000\n",
    "    targetPort: 8000\n",
    "  selector:\n",
    "    role: vpn-api\n",
    "```\n",
    "\n",
    "```\n",
    "  containers:\n",
    "  - name: container-iris\n",
    "    image: registrycristian.azurecr.io/iris:latest\n",
    "    imagePullPolicy: IfNotPresent\n",
    "    ports:\n",
    "    - containerPort: 8000\n",
    "    readinessProbe:\n",
    "      httpGet:\n",
    "        path: /\n",
    "        port: 8000\n",
    "      initialDelaySeconds: 5\n",
    "      periodSeconds: 10\n",
    "    livenessProbe:\n",
    "      tcpSocket:\n",
    "        port: 8000\n",
    "      initialDelaySeconds: 15\n",
    "      periodSeconds: 20\n",
    "  imagePullSecrets:\n",
    "    - name: secreto\n",
    "```"
   ]
  },
  {
   "cell_type": "markdown",
   "metadata": {
    "pycharm": {
     "name": "#%% md\n"
    }
   },
   "source": [
    "```\n",
    "kubectl create secret docker-registry <secret-name> \\\n",
    "    --namespace <namespace> \\\n",
    "    --docker-server=<container-registry-name>.azurecr.io \\\n",
    "    --docker-username=<service-principal-ID> \\\n",
    "    --docker-password=<service-principal-password>\n",
    "```"
   ]
  }
 ],
 "metadata": {
  "kernelspec": {
   "display_name": "Python 3 (ipykernel)",
   "language": "python",
   "name": "python3"
  },
  "language_info": {
   "codemirror_mode": {
    "name": "ipython",
    "version": 3
   },
   "file_extension": ".py",
   "mimetype": "text/x-python",
   "name": "python",
   "nbconvert_exporter": "python",
   "pygments_lexer": "ipython3",
   "version": "3.9.13"
  }
 },
 "nbformat": 4,
 "nbformat_minor": 1
}
