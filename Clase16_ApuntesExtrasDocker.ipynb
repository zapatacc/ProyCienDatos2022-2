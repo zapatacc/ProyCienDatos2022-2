{
 "cells": [
  {
   "cell_type": "markdown",
   "source": [
    "# Aviso parroquial\n",
    "\n",
    "Quiz sobre todo el tema de `Docker` para la siguiente clase (Lunes 17 de Octubre) antes de empezar la clase."
   ],
   "metadata": {
    "collapsed": false,
    "pycharm": {
     "name": "#%% md\n"
    }
   }
  },
  {
   "cell_type": "markdown",
   "source": [
    "# Repaso de la clase pasada... Docker\n",
    "1. Qué es `Docker`?\n",
    "2. Qué es el `Dockerfile`?\n",
    "3. Qué es una **imagen** de `Docker`?\n",
    "4. Qué es un **contenedor** de `Docker`?\n",
    "____\n",
    "\n",
    "![](https://craft-code.com/wp-content/uploads/2021/08/docker_facebook_share.png)\n",
    "## 1. Qué es Docker?\n",
    "Es una herramienta para crear y desplegar ambientes aislados y correr aplicaciones con sus respectivas dependencias.\n",
    "\n",
    "## 2. Qué es el `Dockerfile`?\n",
    "Un archivo de texto que contiene una lista de comandos/instrucciones que se usan para crear la **imagen de Docker**.\n",
    "\n",
    "## 3. Qué es una imagen de `Docker`?\n",
    "Un plan para crear contenedores. Las imágenes son inmutables y todos los contenedores creados a partir de la misma imagen son exactamente iguales.\n",
    "\n",
    "## 4. Qué es un **contenedor** de `Docker`?\n",
    "Una instancia de la aplicación que esta ejecutándose.\n",
    "\n",
    "### Analogía con galletas\n",
    "\n",
    "![](https://miro.medium.com/max/1400/0*vA9VPPRkFtYvYdUY)"
   ],
   "metadata": {
    "collapsed": false,
    "pycharm": {
     "name": "#%% md\n"
    }
   }
  },
  {
   "cell_type": "markdown",
   "source": [
    "## Conceptos adicionales sobre `Docker`\n",
    "\n",
    "### 1. Variantes de las imágenes\n",
    "- **Standard**\n",
    "```\n",
    "FROM python:<version>\n",
    "```\n",
    "\n",
    "- **Slim**\n",
    "Contiene lo mínimo necesario para correr `python`. Esta variante es adecuada cuando no requiere dependencias externas y trabaja bien con solo Python.\n",
    "```\n",
    "FROM python:<version>-slim\n",
    "```\n",
    "\n",
    "- **Alpine**\n",
    "Basada en [Alpine Linux Project](https://alpinelinux.org/). Es adecuada cuando nos importa el tamaño de la imagen. La imagen base pesa 5MB.\n",
    "```\n",
    "FROM python:<version>-alpine\n",
    "```\n",
    "**Warning** Puede tener problemas con matplotlib debido a no usa la librería `glibc`.\n",
    "\n",
    "- **windowsservercore**\n",
    "Basada en Windows Server\n",
    "```\n",
    "FROM python:<version>-windowsservercore\n",
    "```\n",
    "\n",
    "### 2. Directorio de trabajo\n",
    "Suponga que se tiene la siguiente estructura:\n",
    "\n",
    "![](docker_directory.png)\n",
    "\n",
    "Y que se tiene el siguiente `Dockerfile`\n",
    "\n",
    "```\n",
    "FROM python:3.7\n",
    "WORKDIR /app\n",
    "COPY ./requirements.txt requirements.txt\n",
    "RUN pip install -r /requirements.txt\n",
    "COPY ./app /app\n",
    "CMD [\"python\", \"main.py\"]\n",
    "```\n",
    "\n",
    "También se puede tener este otro `Dockerfile`\n",
    "\n",
    "```\n",
    "FROM python:3.9\n",
    "WORKDIR /code\n",
    "COPY ./requirements.txt /code/requirements.txt\n",
    "RUN pip install --no-cache-dir --upgrade -r /code/requirements.txt\n",
    "COPY ./app /code/app\n",
    "CMD [\"uvicorn\", \"app.main:app\", \"--host\", \"0.0.0.0\", \"--port\", \"80\"]\n",
    "```\n",
    "\n",
    "**WARNING:** Tener cuidado con la importación relativa de módulos (carpetas) personalizados.\n",
    "\n",
    "### 3. Construcción incremental\n",
    "\n",
    "Estas líneas\n",
    "```\n",
    "RUN python -m pip install -U pip\n",
    "RUN pip install -r requirements.txt\n",
    "```\n",
    "\n",
    "Se pueden reemplazar por...\n",
    "```\n",
    "RUN python -m pip install -U pip && pip install -r requirements.txt\n",
    "```\n",
    "\n"
   ],
   "metadata": {
    "collapsed": false,
    "pycharm": {
     "name": "#%% md\n"
    }
   }
  },
  {
   "cell_type": "markdown",
   "source": [
    "## API Key con FastAPI\n",
    "\n"
   ],
   "metadata": {
    "collapsed": false,
    "pycharm": {
     "name": "#%% md\n"
    }
   }
  },
  {
   "cell_type": "code",
   "execution_count": 1,
   "outputs": [],
   "source": [
    "from fastapi import Security, Depends, FastAPI, HTTPException\n",
    "from fastapi.security.api_key import APIKeyQuery, APIKey\n",
    "\n",
    "from starlette.status import HTTP_403_FORBIDDEN"
   ],
   "metadata": {
    "collapsed": false,
    "pycharm": {
     "name": "#%%\n"
    }
   }
  },
  {
   "cell_type": "code",
   "execution_count": 2,
   "outputs": [],
   "source": [
    "API_KEY = \"1234567asdfgh\"\n",
    "API_KEY_NAME = \"access_token\"\n",
    "\n",
    "api_key_query = APIKeyQuery(name=API_KEY_NAME, auto_error=False)\n",
    "\n",
    "def get_api_key(api_key_query: str = Security(api_key_query)):\n",
    "\n",
    "    if api_key_query == API_KEY:\n",
    "        return api_key_query\n",
    "    else:\n",
    "        raise HTTPException(\n",
    "            status_code=HTTP_403_FORBIDDEN, detail=\"Could not validate credentials\"\n",
    "        )\n",
    "\n",
    "@app.get(\"/secure_endpoint\", tags=[\"test\"])\n",
    "async def get_open_api_endpoint(api_key: APIKey = Depends(get_api_key)):\n",
    "    response = \"How cool is this?\"\n",
    "    return response"
   ],
   "metadata": {
    "collapsed": false,
    "pycharm": {
     "name": "#%%\n"
    }
   }
  }
 ],
 "metadata": {
  "kernelspec": {
   "display_name": "Python 3 (ipykernel)",
   "language": "python",
   "name": "python3"
  },
  "language_info": {
   "codemirror_mode": {
    "name": "ipython",
    "version": 3
   },
   "file_extension": ".py",
   "mimetype": "text/x-python",
   "name": "python",
   "nbconvert_exporter": "python",
   "pygments_lexer": "ipython3",
   "version": "3.9.13"
  }
 },
 "nbformat": 4,
 "nbformat_minor": 1
}