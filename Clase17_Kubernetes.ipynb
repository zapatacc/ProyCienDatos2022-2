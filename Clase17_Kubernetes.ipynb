{
 "cells": [
  {
   "cell_type": "markdown",
   "metadata": {
    "pycharm": {
     "name": "#%% md\n"
    }
   },
   "source": [
    "## Introducción a Kubernetes\n",
    " ![](https://kubernetes.io/images/kubernetes-horizontal-color.png)\n",
    "____"
   ]
  },
  {
   "cell_type": "markdown",
   "metadata": {
    "pycharm": {
     "name": "#%% md\n"
    }
   },
   "source": [
    "- **Kubernetes** es una plataforma portátil, extensible y de código abierto para administrar cargas de trabajo y servicios en **contenedores**, que facilita tanto la configuración declarativa como la automatización.\n",
    "- Tiene un ecosistema grande y de rápido crecimiento. Los servicios, el soporte y las herramientas de Kubernetes están ampliamente disponibles.\n",
    "- El nombre Kubernetes proviene del griego y significa **timonel** o **piloto**.\n",
    "- K8s como abreviatura resulta de contar las ocho letras entre la \"K\" y la \"s\".\n",
    "- Google abrió el código del proyecto Kubernetes en 2014.\n",
    "- Kubernetes combina más de 15 años de experiencia de Google en la ejecución de cargas de trabajo de producción a escala con las mejores ideas y prácticas de la comunidad."
   ]
  },
  {
   "cell_type": "markdown",
   "metadata": {
    "pycharm": {
     "name": "#%% md\n"
    }
   },
   "source": [
    "## Por qué necesitamos Kubernetes y qué puede hacer\n",
    "\n",
    "- Los contenedores son una buena manera de agrupar y ejecutar aplicaciones.\n",
    "- En un entorno de producción, se deben administrar los contenedores que ejecutan las aplicaciones y asegurarse de que no haya tiempo de inactividad. Por ejemplo, si un contenedor se cae, otro contenedor debe comenzar.\n",
    "- **Kubernetes** proporciona un marco para ejecutar sistemas distribuidos de forma resiliente.\n",
    "- Se encarga del escalado y la conmutación por error de su aplicación, proporciona patrones de implementación y más.\n",
    "\n",
    "Adicionalmente, Kubernetes proporciona:\n",
    "\n",
    "\n",
    "   1. **El descubrimiento de servicios y el balanceo de carga:** Kubernetes pueden exponer un contenedor usando el nombre DNS o usando su propia dirección IP. Si el tráfico a un contenedor es alto, Kubernetes puede equilibrar la carga y distribuir el tráfico de la red para que la implementación sea estable.\n",
    "   2. **Orquestación de almacenamiento:** Kubernetes le permite montar automáticamente un sistema de almacenamiento de su elección, como almacenamiento local, proveedores de nube pública y más.\n",
    "   3. **Empaquetado automático en contenedores:** Se configura Kubernetes con un cluster de nodos que pueden ejecutar contenedores. Le dices a Kubernetes cuánta CPU y memoria (RAM) necesita cada contenedor. Kubernetes puede colocar contenedores en sus nodos para aprovechar al máximo sus recursos.\n",
    "   4. **La reparación automática:** Kubernetes reinicia los contenedores que fallan, reemplaza los contenedores, elimina los contenedores que no responden a la verificación de estado definida por el usuario y no los pone disponibles a los clientes hasta que están listos para servir.\n",
    "   5. **Administración de configuraciones y secretos:** Kubernetes le permite almacenar y administrar información confidencial, como contraseñas, tokens de OAuth y claves SSH. Puede implementar y actualizar los secretos y la configuración de la aplicación sin reconstruir sus imágenes de contenedor y sin exponer los secretos en el código.\n",
    " ___"
   ]
  },
  {
   "cell_type": "markdown",
   "metadata": {
    "pycharm": {
     "name": "#%% md\n"
    }
   },
   "source": [
    "## Definiciones importantes\n",
    "![](node_kbernetes.png)\n",
    "![](kcluster.png)"
   ]
  },
  {
   "cell_type": "markdown",
   "metadata": {
    "pycharm": {
     "name": "#%% md\n"
    }
   },
   "source": [
    "## Componentes de Kubernetes\n",
    "\n",
    "![](Kubernetes%20components.png)\n",
    "\n",
    "___\n",
    "\n",
    "- Cuando se despliega Kubernetes, se obtiene un clúster.\n",
    "\n",
    "- Un **clúster** de Kubernetes consta de un conjunto de máquinas de trabajo, llamadas **nodos**, que ejecutan aplicaciones en contenedores.\n",
    "\n",
    "- Cada clúster tiene al menos un nodo trabajador (**workers**).\n",
    "\n",
    "- Los nodos trabajadores alojan los **pods** que son los componentes de la carga de trabajo de la aplicación.\n",
    "\n",
    "- El plano de control administra los nodos trabajadores y los pods en el clúster.\n",
    "\n",
    "- En entornos de producción, el plano de control generalmente se ejecuta en varias computadoras y un clúster generalmente ejecuta varios nodos, lo que proporciona tolerancia a fallas y alta disponibilidad.\n",
    "\n"
   ]
  },
  {
   "cell_type": "markdown",
   "metadata": {
    "pycharm": {
     "name": "#%% md\n"
    }
   },
   "source": [
    "## Componentes del plano de control\n",
    "\n",
    "- Los componentes del plano de control toman decisiones globales sobre el clúster (por ejemplo, la programación), además de detectar y responder a los eventos del clúster (por ejemplo, iniciar un nuevo pod cuando el campo de réplicas de una implementación no está satisfecho).\n",
    "\n",
    "- Los componentes del plano de control se pueden ejecutar en cualquier máquina del clúster. Sin embargo, para simplificar, los scripts de configuración generalmente inician todos los componentes del plano de control en la misma máquina y no se ejecutan contenedores de usuario en esta máquina.\n",
    "\n",
    "### kube-apiserver\n",
    "kube-apiserver está diseñado para escalar horizontalmente, es decir, escala mediante la implementación de más instancias. Puede ejecutar varias instancias de kube-apiserver y equilibrar el tráfico entre esas instancias.\n",
    "\n",
    "### etcd\n",
    "Base de datos de valor clave coherente y de alta disponibilidad utilizado como almacén de respaldo de Kubernetes para todos los datos del clúster.\n",
    "\n",
    "### kube-scheduler\n",
    "\n",
    "Componente del plano de control que busca pods recién creados sin un nodo asignado y selecciona un nodo para que se ejecuten.\n",
    "___"
   ]
  },
  {
   "cell_type": "markdown",
   "metadata": {
    "pycharm": {
     "name": "#%% md\n"
    }
   },
   "source": [
    "## Componentes del nodo\n",
    "\n",
    "Los componentes del nodo se ejecutan en cada nodo, manteniendo los pods en ejecución.\n",
    "\n",
    "### kubelet\n",
    "\n",
    "Un agente que se ejecuta en cada nodo del clúster. Se asegura de que los contenedores se ejecuten en un Pod.\n",
    "\n",
    "El kubelet toma un conjunto de PodSpecs que se proporcionan a través de varios mecanismos y garantiza que los contenedores descritos en esos PodSpecs estén funcionando y en buen estado. El kubelet no administra contenedores que no hayan sido creados por Kubernetes.\n",
    "\n",
    "### kube-proxy\n",
    "\n",
    "kube-proxy es un proxy de red que se ejecuta en cada nodo de su clúster e implementa parte del concepto de servicio de Kubernetes.\n",
    "\n",
    "kube-proxy mantiene reglas de red en los nodos. Estas reglas de red permiten la comunicación de red con sus Pods desde sesiones de red dentro o fuera de su clúster.\n",
    "\n",
    "kube-proxy usa la capa de filtrado de paquetes del sistema operativo si hay una y está disponible. De lo contrario, kube-proxy reenvía el tráfico."
   ]
  },
  {
   "cell_type": "markdown",
   "metadata": {
    "pycharm": {
     "name": "#%% md\n"
    }
   },
   "source": [
    "## Usando Kubernetes de manera local\n",
    "\n",
    "- Instalar **kubectl**\n",
    "[https://kubernetes.io/docs/tasks/tools/](https://kubernetes.io/docs/tasks/tools/)\n",
    "[https://www.youtube.com/watch?v=5-LHcpkRA58](https://www.youtube.com/watch?v=5-LHcpkRA58)\n",
    "\n",
    "- Instalar **minikube**\n",
    "[https://minikube.sigs.k8s.io/docs/start/](https://minikube.sigs.k8s.io/docs/start/)"
   ]
  },
  {
   "cell_type": "markdown",
   "metadata": {
    "pycharm": {
     "name": "#%% md\n"
    }
   },
   "source": [
    "- Iniciar el clúster\n",
    "```\n",
    "minikube start --driver docker\n",
    "minikube status\n",
    "```\n",
    "\n",
    "- Ver nodos en el cluster\n",
    "```\n",
    "kubectl get nodes\n",
    "```\n",
    "\n",
    "- Ver pods en el nodo\n",
    "```\n",
    "kubectl get pod\n",
    "```"
   ]
  }
 ],
 "metadata": {
  "kernelspec": {
   "display_name": "Python 3 (ipykernel)",
   "language": "python",
   "name": "python3"
  },
  "language_info": {
   "codemirror_mode": {
    "name": "ipython",
    "version": 3
   },
   "file_extension": ".py",
   "mimetype": "text/x-python",
   "name": "python",
   "nbconvert_exporter": "python",
   "pygments_lexer": "ipython3",
   "version": "3.9.13"
  }
 },
 "nbformat": 4,
 "nbformat_minor": 1
}
