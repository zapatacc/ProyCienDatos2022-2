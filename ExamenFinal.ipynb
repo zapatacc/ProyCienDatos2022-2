{
 "cells": [
  {
   "cell_type": "markdown",
   "metadata": {},
   "source": [
    "      ___   _\n",
    "     |_ _| | |_    ___   ___    ___\n",
    "      | |  | __|  / _ \\ / __|  / _ \\\n",
    "      | |  | |_  |  __/ \\__ \\ | (_) |\n",
    "     |___|  \\__|  \\___| |___/  \\___/\n",
    "\n",
    "# Examen Final - Proyecto en Ciencia de Datos.\n",
    "Lea cuidadosamente las siguientes **indicaciones** antes de comenzar el examen:\n",
    "- El objetivo de este examen es poder evaluar sus conocimientos como **Científico de Datos** a la hora de desarrollar un proyecto de inicio a fin.\n",
    "- Usted, como líder de este proyecto, tendrá toda la autoridad y potestad de tomar cualquier decisión y asumir lo que considere necesario, siempre y cuando tenga razones concretas para justificar dichas decisiones.\n",
    "- Se le planteará un escenario de la vida real y se le compartirá el conjunto de datos respectivos para atacar el problema.\n",
    "- Antes de iniciar a resolver el examen, deberá crear un repositorio en su cuenta de `GitHub` y nombrarlo de la siguiente manera: `examen-final-pdcd`.\n",
    "- Dicho repositorio deberá contener un archivo `README.md` y un archivo `.gitignore`.\n",
    "- Podrá trabajar en todo momento sobre la rama principal: `master` ó `main`.\n",
    "- La solución del problema deberá contener, **como mínimo** los aspectos básicos de un proyecto de ciencia de datos:\n",
    "    - Análisis Exploratorio de Datos.\n",
    "    - Ingeniería de Características - Data Wrangling\n",
    "    - Entrenamiento, validación, evaluación y selección del modelo\n",
    "    - Microservicio (API) para servir el modelo\n",
    "    - Creación de imagen para dicha API. Explicar el procedimiento utilizado para crear la imagen y correr el contenedor. (Adjunte imagenes como prueba del funcionamiento del contenedor de la API)\n",
    "- Deberá estructurar el proyecto de una manera asertiva. Hará parte de la evaluación la selección de la estructura del proyecto.\n",
    "- Recuerde la importancia de los archivos `requirements.txt` y `Dockerfile` para el desarrollo del proyecto. Ubiquelos en la carpeta correcta.\n",
    "- Este archivo `ExamenFinal.ipynb` póngalo en la carpeta raíz del repositorio.\n",
    "- El `dataset` será brindado a usted a través de un enlace. Dicho dataset **NO** es necesario sincronizarlo en el repositorio ya que es muy pesado.\n",
    "- Para resolver cada uno de los aspectos básico del proyecto, use y cree los cuadernos de `jupyter` y/o `scripts` de Python que considere necesario, acorde a la estructura del proyecto que escogió.\n",
    "- El formato de presentación de todo el examen en general debe ser adecuado. Use tamaños de letra, colores, etiquetas, etcétera.\n",
    "- No se resuelven dudas de ningún tipo por parte tanto del profesor de la asignatura como de ningún otro profesor. Por favor, absténgase de preguntar.\n",
    "- Recuerde que también se está evaluando su capacidad de interpretar los resultados. Escriba sus interpretaciones/conclusiones\n",
    "- La calificación del examen está distribuida de la siguiente manera:\n",
    "\n",
    "|                       Aspecto a evaluar                       | Porcentaje |\n",
    "|:-------------------------------------------------------------:|------------|\n",
    "| Repositorio de Github debidamente configurado                 | 10         |\n",
    "| Análisis Exploratorio de Datos.                               | 10         |\n",
    "| Ingeniería de Características - Data Wrangling                | 10         |\n",
    "|  Entrenamiento, validación, evaluación y selección del modelo | 20         |\n",
    "| Microservicio (API) para servir el modelo                     | 20         |\n",
    "| Creación de imagen para dicha API                             | 20         |\n",
    "| Conclusiones                                                  | 10         |\n"
   ]
  },
  {
   "cell_type": "markdown",
   "source": [],
   "metadata": {
    "collapsed": false
   }
  },
  {
   "cell_type": "markdown",
   "source": [
    "<h1><strong>Funding Challenge!</strong></h1>\n",
    "\n",
    "<hr>\n",
    "<p>Bienvenid@ al Funding Challenge</p>\n",
    "<h2>Descripción</h2>\n",
    "\n",
    "<p>En escuelas de E.U.A los maestros desarrollan proyectos para mejorar las condiciones de los estudiantes, resolver problemáticas como el bullying, mejorar el prendizaje, etc. El dataset <b>Projects_cleansed.zip</b> esta formado por las siguientes columnas:<br>\n",
    "</p>\n",
    "\n",
    "<b>Project Title</b> - Nombre del Proyecto<br>\n",
    "<b>Project Short Description </b> - Descripción corta (198 palabras aprox) y el final de la descripción esta indicada por \"...\"<br>\n",
    "<b>Project Subject Category Tree</b> - es una taxonomía que indica el área al que pertenece el proyecto<br>\n",
    "    <b>Project Cost</b> - es un campo númerico que indica la cantidad que se busca fondear<br>\n",
    "    <b>Project Current Status</b> - Si el proyecto fué fondedado o no<br>\n",
    "\n",
    "\n",
    "El `dataset` con el que se trabajrá lo puede encontrar en el siguiente enlace:\n",
    "[https://drive.google.com/file/d/1sQ7Fw0tO9GV-qnErJTQEbnqAACcPc18Q/view](https://drive.google.com/file/d/1sQ7Fw0tO9GV-qnErJTQEbnqAACcPc18Q/view)"
   ],
   "metadata": {
    "collapsed": false
   }
  },
  {
   "cell_type": "markdown",
   "metadata": {},
   "source": []
  }
 ],
 "metadata": {
  "kernelspec": {
   "display_name": "Python 3",
   "language": "python",
   "name": "python3"
  },
  "language_info": {
   "codemirror_mode": {
    "name": "ipython",
    "version": 3
   },
   "file_extension": ".py",
   "mimetype": "text/x-python",
   "name": "python",
   "nbconvert_exporter": "python",
   "pygments_lexer": "ipython3",
   "version": "3.8.9"
  }
 },
 "nbformat": 4,
 "nbformat_minor": 2
}
