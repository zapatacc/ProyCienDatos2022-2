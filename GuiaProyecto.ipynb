{
 "cells": [
  {
   "cell_type": "markdown",
   "metadata": {},
   "source": [
    "# Guía para presentación de proyectos.\n",
    "> Se especifican los componentes básicos que deberá tener el proyecto final del curso `Proyecto en Ciencia de Datos`."
   ]
  },
  {
   "cell_type": "markdown",
   "metadata": {},
   "source": [
    "___\n",
    "## 1. Entregable.\n",
    "Los trabajos deben tener los siguientes componentes básicos.\n",
    "\n",
    "1. Título del trabajo.\n",
    "2. Introducción\n",
    "3. Antecedentes\n",
    "4. Objetivos\n",
    "5. Planteamiento del problema\n",
    "6. Desarrollo de la solución\n",
    "    - EDA\n",
    "    - Data Wrangling\n",
    "    - Dataset final a trabajar\n",
    "    - Entrenamiento del modelo\n",
    "    - Servir el modelo (API)\n",
    "    - Conteneirizar del servicio (Y subir la imagen a la nube) Explicar procedimiento con screen shots\n",
    "    - Despliegue del servicio en la nube (Clúster de K8s) Explicar procedimiento con screen shots\n",
    "    **Nota:** Una vez que el despliegue esté listo y funcional en la nube, apagar el clúster par ano gastar créditos. El día de la presentación se pedirá un demo funcional en vivo.\n",
    "7. Conclusiones\n",
    "8. Referencias"
   ]
  },
  {
   "cell_type": "markdown",
   "metadata": {},
   "source": [
    "___\n",
    "## 2 Presentación.\n",
    "> Recuerden que la nota del proyecto es mitad el trabajo, y mitad la presentación. Deben hacer una presentación en power point para presentar el trabajo en la clase del **Miércoles 30 de Noviembre**. La presentación, además de llevar todos los componentes básicos descritos en el entregable, debe llevar una tabla de contenido.\n",
    ">\n",
    "> - Presentación: 15 minutos.\n",
    "> - Seguir estas recomendaciones: https://es.slideshare.net/MeireComputacion/power-point-pautas-para-una-buen-trabajo"
   ]
  },
  {
   "cell_type": "markdown",
   "metadata": {},
   "source": [
    "<script>\n",
    "  $(document).ready(function(){\n",
    "    $('div.prompt').hide();\n",
    "    $('div.back-to-top').hide();\n",
    "    $('nav#menubar').hide();\n",
    "    $('.breadcrumb').hide();\n",
    "    $('.hidden-print').hide();\n",
    "  });\n",
    "</script>\n",
    "\n",
    "<footer id=\"attribution\" style=\"float:right; color:#808080; background:#fff;\">\n",
    "Created with Jupyter by Cristian Camilo Zapata Zuluaga.\n",
    "</footer>"
   ]
  }
 ],
 "metadata": {
  "kernelspec": {
   "display_name": "Python 3",
   "language": "python",
   "name": "python3"
  },
  "language_info": {
   "codemirror_mode": {
    "name": "ipython",
    "version": 3
   },
   "file_extension": ".py",
   "mimetype": "text/x-python",
   "name": "python",
   "nbconvert_exporter": "python",
   "pygments_lexer": "ipython3",
   "version": "3.7.6"
  }
 },
 "nbformat": 4,
 "nbformat_minor": 2
}
