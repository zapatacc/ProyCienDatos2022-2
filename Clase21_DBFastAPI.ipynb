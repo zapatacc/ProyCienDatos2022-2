{
 "cells": [
  {
   "cell_type": "markdown",
   "metadata": {
    "pycharm": {
     "name": "#%% md\n"
    }
   },
   "source": [
    "# How to connect FastAPI to Database\n",
    "\n",
    "1. Instalar sqlite3:\n",
    "   - Windows: https://youtu.be/2CAspm7YwTU?t=74\n",
    "   - Mac: Instalar brew (Viene por default con brew)\n",
    "   - Para validar: desde terminar correr `sqlite3`. Para salir `ctrl + D`\n",
    "\n",
    "2. Vamos a crear un nuevo proyecto de FastAPI\n",
    "3. Crear un nuevo entorno virtual\n",
    "4. Instalar fastapi: `pip install \"fastapi[all]\"`\n",
    "5. Instalar sqlalchemy: `pip install sqlalchemy`\n",
    "6. Crear los siguientes scripts:"
   ]
  },
  {
   "cell_type": "markdown",
   "metadata": {
    "pycharm": {
     "name": "#%% md\n"
    }
   },
   "source": [
    "### `books.py`\n",
    "```\n",
    "from fastapi import FastAPI, HTTPException, Depends\n",
    "from pydantic import BaseModel, Field\n",
    "import models\n",
    "from database import engine, SessionLocal\n",
    "from sqlalchemy.orm import Session\n",
    "\n",
    "app = FastAPI()\n",
    "\n",
    "models.Base.metadata.create_all(bind=engine)\n",
    "\n",
    "\n",
    "def get_db():\n",
    "    try:\n",
    "        db = SessionLocal()\n",
    "        yield db\n",
    "    finally:\n",
    "        db.close()\n",
    "\n",
    "\n",
    "class Book(BaseModel):\n",
    "    title: str = Field(min_length=1)\n",
    "    author: str = Field(min_length=1, max_length=100)\n",
    "    description: str = Field(min_length=1, max_length=100)\n",
    "    rating: int = Field(gt=-1, lt=101)\n",
    "\n",
    "\n",
    "BOOKS = []\n",
    "\n",
    "\n",
    "@app.get(\"/\")\n",
    "def read_api(db: Session = Depends(get_db)):\n",
    "    return db.query(models.Books).all()\n",
    "\n",
    "\n",
    "@app.post(\"/\")\n",
    "def create_book(book: Book, db: Session = Depends(get_db)):\n",
    "\n",
    "    book_model = models.Books()\n",
    "    book_model.title = book.title\n",
    "    book_model.author = book.author\n",
    "    book_model.description = book.description\n",
    "    book_model.rating = book.rating\n",
    "\n",
    "    db.add(book_model)\n",
    "    db.commit()\n",
    "\n",
    "    return book\n",
    "\n",
    "\n",
    "@app.put(\"/{book_id}\")\n",
    "def update_book(book_id: int, book: Book, db: Session = Depends(get_db)):\n",
    "\n",
    "    book_model = db.query(models.Books).filter(models.Books.id == book_id).first()\n",
    "\n",
    "    if book_model is None:\n",
    "        raise HTTPException(\n",
    "            status_code=404,\n",
    "            detail=f\"ID {book_id} : Does not exist\"\n",
    "        )\n",
    "\n",
    "    book_model.title = book.title\n",
    "    book_model.author = book.author\n",
    "    book_model.description = book.description\n",
    "    book_model.rating = book.rating\n",
    "\n",
    "    db.add(book_model)\n",
    "    db.commit()\n",
    "\n",
    "    return book\n",
    "\n",
    "\n",
    "@app.delete(\"/{book_id}\")\n",
    "def delete_book(book_id: int, db: Session = Depends(get_db)):\n",
    "\n",
    "    book_model = db.query(models.Books).filter(models.Books.id == book_id).first()\n",
    "\n",
    "    if book_model is None:\n",
    "        raise HTTPException(\n",
    "            status_code=404,\n",
    "            detail=f\"ID {book_id} : Does not exist\"\n",
    "        )\n",
    "\n",
    "    db.query(models.Books).filter(models.Books.id == book_id).delete()\n",
    "\n",
    "    db.commit()\n",
    "```"
   ]
  },
  {
   "cell_type": "markdown",
   "metadata": {
    "pycharm": {
     "name": "#%% md\n"
    }
   },
   "source": [
    "### `database.py`\n",
    "```\n",
    "from sqlalchemy import create_engine\n",
    "from sqlalchemy.orm import sessionmaker\n",
    "from sqlalchemy.ext.declarative import declarative_base\n",
    "\n",
    "SQLALCHEMY_DATABASE_URL = \"sqlite:///./books.db\"\n",
    "\n",
    "engine = create_engine(\n",
    "    SQLALCHEMY_DATABASE_URL, connect_args={\"check_same_thread\": False}\n",
    ")\n",
    "\n",
    "SessionLocal = sessionmaker(autocommit=False, autoflush=False, bind=engine)\n",
    "\n",
    "Base = declarative_base()\n",
    "```"
   ]
  },
  {
   "cell_type": "markdown",
   "metadata": {
    "pycharm": {
     "name": "#%% md\n"
    }
   },
   "source": [
    "### `models.py`\n",
    "```\n",
    "from sqlalchemy import Column, Integer, String\n",
    "from database import Base\n",
    "\n",
    "\n",
    "class Books(Base):\n",
    "    __tablename__ = \"books\"\n",
    "\n",
    "    id = Column(Integer, primary_key=True, index=True)\n",
    "    title = Column(String)\n",
    "    author = Column(String)\n",
    "    description = Column(String)\n",
    "    rating = Column(Integer)\n",
    "```"
   ]
  }
 ],
 "metadata": {
  "kernelspec": {
   "display_name": "Python 3 (ipykernel)",
   "language": "python",
   "name": "python3"
  },
  "language_info": {
   "codemirror_mode": {
    "name": "ipython",
    "version": 3
   },
   "file_extension": ".py",
   "mimetype": "text/x-python",
   "name": "python",
   "nbconvert_exporter": "python",
   "pygments_lexer": "ipython3",
   "version": "3.9.13"
  }
 },
 "nbformat": 4,
 "nbformat_minor": 1
}