{
 "cells": [
  {
   "cell_type": "markdown",
   "metadata": {
    "pycharm": {
     "name": "#%% md\n"
    }
   },
   "source": [
    "# Sistemas de recomendación\n",
    "___\n",
    "![](https://www.fundacionctic.org/sites/default/files/inline-images/3_4.png)\n",
    "https://en.wikipedia.org/wiki/Recommender_system\n",
    "\n",
    "Un sistema de recomendación (plataforma de recomendación ó motor de recomendación), es una subclase de *[sistema de filtrado de información](https://en.wikipedia.org/wiki/Information_filtering_system)* que brinda sugerencias para elementos que son más pertinentes para un usuario en particular.\n",
    "\n",
    "Por lo general, las sugerencias se refieren a varios procesos de toma de decisiones, como qué producto comprar, qué música escuchar o qué noticias en línea leer. Los sistemas de recomendación son particularmente útiles cuando una persona necesita elegir un elemento de una cantidad potencialmente abrumadora de elementos que puede ofrecer un servicio.\n",
    "\n",
    "Los sistemas de recomendación se utilizan en una variedad de áreas:\n",
    "- Generador de listas de reproducción para servicios de streamming de video y música. (YouTube, Spotify)\n",
    "- Recomendadores de productos para tiendas en línea (Amazon, Mercadolibre)\n",
    "- Recomendadores de contendio para plataformas en redes sociales (Facebook, Instagram, LinkedIn, TikTok)\n",
    "- Artículos de investigación y expertos - Colaboradores.\n",
    "- Servicios financieros\n",
    "- ...\n",
    "-\n",
    "\n",
    "\n"
   ]
  },
  {
   "cell_type": "markdown",
   "metadata": {
    "pycharm": {
     "name": "#%% md\n"
    }
   },
   "source": [
    "___\n",
    "## Un poco de historia\n",
    "Elaine Rich creó en 1979, sin saberlo, los primeros sistemas de recomendación. Buscó la forma de recomendar a un usuario un libro que le pudiera gustar. Su idea era crear un sistema que hiciera preguntas específicas al usuario y le asignara estereotipos en función de sus respuestas. Dependiendo del estereotipo de los usuarios, obtendría una recomendación para un libro que le podría gustar.\n",
    "\n",
    "La primera mención real del sistema de recomendación fue en 1990 en un informe técnico llamado \"digital bookshelf\" por Jussi Karlgren en la Universidad de Columbia.\n",
    "\n",
    "### Netflix Prize\n",
    "![https://assets3.thrillist.com/v1/image/2677185/792x520/scale;webp=auto;jpeg_quality=60.jpg](https://assets3.thrillist.com/v1/image/2677185/792x520/scale;webp=auto;jpeg_quality=60.jpg)\n",
    "De 2006 a 2009, **Netflix** patrocinó una competencia, ofreciendo un gran premio de **$\\$1,000,000** al equipo que pudiera tomar un conjunto de datos ofrecido de más de 100 millones de calificaciones de películas y devolver recomendaciones que eran un 10% más precisas que las ofrecidas por el sistema de recomendación existente de la compañía.\n",
    "\n",
    "Esta competencia impulsó la búsqueda de algoritmos nuevos y más precisos. El 21 de septiembre de 2009, se otorgó el gran premio de **$\\$1,000,000** USD al equipo **Pragmatic Chaos de BellKor**.\n",
    "\n",
    "Surgieron varios problemas de privacidad en torno al conjunto de datos ofrecido por Netflix para la competencia del Premio Netflix. Aunque los conjuntos de datos se anonimizaron para preservar la privacidad del cliente, en 2007 dos investigadores de la Universidad de Texas pudieron identificar algunos usuarios individuales haciendo coincidir los conjuntos de datos con las clasificaciones de películas en Internet Movie Database.\n",
    "___"
   ]
  },
  {
   "cell_type": "markdown",
   "metadata": {
    "pycharm": {
     "name": "#%% md\n"
    }
   },
   "source": [
    "#### Datos\n",
    "- **Training set** (99,072,112 ratings sin incluir el **probe set**; 100,480,507 incluyendo el **probe set**)\n",
    "    - **Probe set** (1,408,395 ratings)\n",
    "- **Qualifying set** (2,817,131 ratings) consisting of:\n",
    "    - **Test set** (1,408,789 ratings), used to determine winners\n",
    "    - **Quiz set** (1,408,342 ratings), used to calculate leaderboard scores\n",
    "\n",
    "#### Consideraciones\n",
    "- Para cada película, el título y el año de lanzamiento se proporcionan en un conjunto de datos separado.\n",
    "- No se proporciona ninguna información sobre los usuarios.\n",
    "    - Para proteger la privacidad de los clientes, \"algunos de los datos de calificación de algunos clientes en los conjuntos de capacitación y calificación se han alterado deliberadamente de una o más de las siguientes maneras: eliminando calificaciones, insertando calificaciones y fechas alternativas y modificando la calificación fechas.\n",
    "\n",
    "___"
   ]
  },
  {
   "cell_type": "markdown",
   "metadata": {
    "pycharm": {
     "name": "#%% md\n"
    }
   },
   "source": [
    "## ¿Qué no son los sistemas de recomendación?\n",
    "___\n",
    "- No es un sistema que \"*recomienda*\" valores aleatorios (para alguno problema aleatorio).\n",
    "- No es un sistema que \"*recomienda*\" precios de una casa que estes comprando.\n",
    "- No es un sistema que \"*recomienda*\" si una transacción es fraudulenta o no.\n",
    "\n",
    "## ¿Qué son los sistemas de recomendación?\n",
    "___\n",
    "- Un sistema que predice ratings o preferencias que un usuario pueda tener a cierto item.\n",
    "- Comúnmente están organizados y presentados como recomendaciones \"top-N\"\n",
    "- También conocidos como **motores de recomendación**, ó **plataformas de recomendación**"
   ]
  },
  {
   "cell_type": "markdown",
   "metadata": {
    "pycharm": {
     "name": "#%% md\n"
    }
   },
   "source": [
    "## Entendiendo al usuario\n",
    "Todo sistema de recomendación necesita datos para poder operar. Por lo tanto, necesita información de cada usuario para poder descifrar el gusto y preferencias de ese usuario.\n",
    "\n",
    "Luego, utiliza esta información del usuario junto con la información de todos los demás usuarios (similares) para recomendar cosas que quizás le guste.\n",
    "\n",
    "Pero... **¿Cómo saber qué le gusta al usuario?**\n",
    "___"
   ]
  },
  {
   "cell_type": "markdown",
   "metadata": {
    "pycharm": {
     "name": "#%% md\n"
    }
   },
   "source": [
    "### Rating explícito\n",
    "- Calificación numérica del producto (Estrellas).\n",
    "- Like (o dislike) de algún tipo de contenido.\n",
    "- ...\n",
    "\n",
    "**Problemas:**\n",
    "- Trabajo extra por parte del usuario. ¿Cuántos de ustedes califican todas las compras en línea? ó  ¿Califican todas las cancioesn que escuchan en su streaming de música?\n",
    "-  ¿A quién le gustó la película de Top Gun?\n",
    "\n",
    "### Rating implícito\n",
    "Viendo las cosas que haces e interpretando qué te gusta (o disgustan) a partir de eso:\n",
    "- Click en una página web\n",
    "- Click en una ad (publicidad)\n",
    "    - Ventajas de los clicks:\n",
    "        - Se tienen mucha información sobre eso\n",
    "    - Desventajas de los clicks:\n",
    "        - Click por accidente\n",
    "        - Click por imagen llamativa (Click bait)\n",
    "        - Bots\n",
    "- Compras (Muy resistente a engaño)\n",
    "- Consumo de servicios: YouTube, Spotify, Netflix\n",
    "\n",
    "**Rating explícito** es un gran insumo cuando se puede lograr que el usuario valore o califique los productos/servicios que compra/consume.\n",
    "\n",
    "Por otro lado, el **rating implícito** puede dar información más valiosa para empezar a diseñar un recomendador.\n",
    "___\n",
    "\n"
   ]
  },
  {
   "cell_type": "markdown",
   "metadata": {
    "pycharm": {
     "name": "#%% md\n"
    }
   },
   "source": [
    "## Sistemas de Recomendación Top N\n",
    "\n",
    "\n",
    "**Objetivo:** Producir una lista finita de recomendaciones de las mejores cosas para mostrarle a un usuario específico.\n",
    "\n",
    "Ejemplo de un (ó tres) recomendador top N:\n",
    "![](https://i.insider.com/57e2b71a077dcc3d018b73d8?width=600&format=jpeg&auto=webp)\n",
    "\n",
    "<p style=\"color:red; font-size:20px\">Nota:</p> La investigación en los sistemas de recomendación tienden a centrarse en el problema de predecir el rating que un usuario le dará a una producto que no se ha calificado aún. **Pero** eso es muy diferente a lo que un sistema de recomendación en realidad quiere hacer en el mundo real.\n",
    "\n",
    "<p style=\"color:blue; font-size:20px\">A los usuarios no les importa la habilidad de predecir como van a calificar un nuevo item. Ellos quieren ver cosas que les van a gustar</p>\n",
    "\n",
    "___\n",
    "\n",
    "### Arquitectura de un sistema de recomendación Top-N\n",
    "### Una arquitectura (Item based)\n",
    "<img src=\"topnRecom.png\" width=\"1500\" height=\"1000\">\n",
    "\n",
    "### Otra arquitectura\n",
    "<img src=\"topnRecom2.png\" width=\"1500\" height=\"1000\">\n",
    "___"
   ]
  },
  {
   "cell_type": "markdown",
   "metadata": {
    "pycharm": {
     "name": "#%% md\n"
    }
   },
   "source": [
    "## Componentes de un Recomendador\n",
    "\n",
    "Los recomendadores tienen principalmente tres grandes componentes:\n",
    "1. **Generación de candidatos:** Dado un pool de items, se generan subconjutnos más pequeños de candidatos (items) para recomendar a un usuario\n",
    "2. **Sistema de puntaje:** Asignar un puntaje a cada item candidato.\n",
    "3. **Sistema de re-rankeo:** Se tiene en cuenta variables extras para re ordenar los items candidatos."
   ]
  },
  {
   "cell_type": "markdown",
   "metadata": {
    "pycharm": {
     "name": "#%% md\n"
    }
   },
   "source": [
    "### Tipos de sistemas de generación de candidatos\n",
    "1. **Content-based filtering System**\n",
    "    - Recomendaciones basadas en los atributos de los items.\n",
    "        Género, año, director, actores, reviews, etc.\n",
    "    - Se calcula la similaridad entre sus atributos. Ejemplo con coseno de similaridad.\n",
    "\n",
    "2. **Collaborative filtering System**\n",
    "    - Acá la palabra clave es **COLABORACION**.\n",
    "    - En palabras simples, encontrar personas con gustos similares a los tuyos. Encontrar vecinos.\n",
    "        - **User-based Collaborative filter** *\"A los usuarios que les gustaron esto que compraste, también les gustó esto..\"*\n",
    "        - **Item-based Collaborative filter** *\"Porque te gustó esto, te puede interesar esto...\"*\n",
    "\n",
    "3. **Híbridos**"
   ]
  },
  {
   "cell_type": "markdown",
   "metadata": {
    "pycharm": {
     "name": "#%% md\n"
    }
   },
   "source": [
    "### Qué tipo de generador de candidatos es el que se presenta en la imágen?\n",
    "![](collaborativeFilter.png)"
   ]
  },
  {
   "cell_type": "markdown",
   "metadata": {
    "pycharm": {
     "name": "#%% md\n"
    }
   },
   "source": [
    "### Actividad en clase - MovieLens Dataset\n",
    "\n",
    "- Crear un ambiente virtual de python en un nuevo proyecto (puede usar `Pycharm`). Llamar al proyecto `MovieLens-trabaja-en-clase`\n",
    "- Crear un cuaderno de Jupyter dentro del proyecto anterior, con el siguiente nombre: `TC2PrimerNombrePrimerApellido.ipynb`, en mi caso sería `TC2CristianZapata.ipynb`\n",
    "- Descargar el siguiente dataset en un carpeta llamada `data` dentro del mismo proyecto. [Dataset](https://grouplens.org/datasets/movielens/latest/)\n",
    "- Importar el dataset con ayuda de `pandas`\n",
    "- Realizar un análisis exploratorio de datos (EDA) del dataset importado.\n",
    "\n",
    "\n",
    "Algunas preguntas que se pueden responder (pero no limitadas a estas)\n",
    "- Cuáles fueron los géneros mejor rankeados en promedio en el año 2005?\n",
    "- Cuál es el top 5 de películas mejor rankeadas en promedio?\n",
    "- Cuál es el género con más revies?\n",
    "- Cuáles es el género por año con mejor rating entre el año 2000 y 2010?\n",
    "- Cuál es el usuario con más críticas y cuál es su género favorito?\n",
    "\n",
    "\n",
    "\n"
   ]
  },
  {
   "cell_type": "markdown",
   "metadata": {
    "pycharm": {
     "name": "#%% md\n"
    }
   },
   "source": [
    "## Tarea 2\n",
    "Responder las preguntas planteadas anteriormente con el dataset de `MovieLens`. Crear un cuaderno de Jupyter con le siguiente formato: `T2PrimerNombrePrimerApellido.ipynb` y subirlo al espacio en canvas.\n",
    "\n",
    "**Fecha de entrega:** Miércoles 7 de septiembre a las 7:55 pm"
   ]
  },
  {
   "cell_type": "code",
   "execution_count": null,
   "metadata": {
    "pycharm": {
     "name": "#%%\n"
    }
   },
   "outputs": [],
   "source": []
  }
 ],
 "metadata": {
  "kernelspec": {
   "display_name": "Python 3 (ipykernel)",
   "language": "python",
   "name": "python3"
  },
  "language_info": {
   "codemirror_mode": {
    "name": "ipython",
    "version": 3
   },
   "file_extension": ".py",
   "mimetype": "text/x-python",
   "name": "python",
   "nbconvert_exporter": "python",
   "pygments_lexer": "ipython3",
   "version": "3.9.13"
  }
 },
 "nbformat": 4,
 "nbformat_minor": 1
}