{
 "cells": [
  {
   "cell_type": "markdown",
   "metadata": {
    "pycharm": {
     "name": "#%% md\n"
    }
   },
   "source": [
    "## Proyecto final\n",
    "1. Recuerde que se divide en dos partes:\n",
    "    - Informe escrito y código\n",
    "    - Presentación\n",
    "2. Habrá entregas parciales, las cuales son un prerequisito para el proyecto final. \n",
    "    - La calificación de dichas entregas entran en el apartado de tares y trabajo en clase.\n",
    "    - Primera entrega: \n",
    "        + Introducción\n",
    "        + Antecedentes\n",
    "        + Objetivos\n",
    "        + Planteamiento del problema\n",
    "        + EDA\n",
    "        + Data Wrangling\n",
    "        + Dataset final a trabajar\n",
    "3. Fecha de entrega: 26 de Octubre de 2022 a las 19:55"
   ]
  },
  {
   "cell_type": "markdown",
   "metadata": {
    "pycharm": {
     "name": "#%% md\n"
    }
   },
   "source": [
    "## Repaso de los conceptos vistos la clase anterior"
   ]
  },
  {
   "cell_type": "markdown",
   "metadata": {
    "pycharm": {
     "name": "#%% md\n"
    }
   },
   "source": [
    "# Manifiestos en Kubernetes\n",
    "Un archivo de manifiesto de Kubernetes incluye instrucciones en un archivo yaml o json que especifican cómo desplegar una aplicación al nodo o nodos en un cluster de Kubernetes. Las instrucciones incluyen información sobre el despliegue de Kubernetes, el servicio Kubernetes y otros objetos de Kubernetes que se crearán en el cluster. También se suele hacer referencia al manifiesto como especificación de pod o como archivo deployment.yaml (aunque se permiten otros nombres de archivo).\n",
    "\n",
    "![](https://i.stack.imgur.com/kyLFz.png)"
   ]
  },
  {
   "cell_type": "markdown",
   "metadata": {
    "pycharm": {
     "name": "#%% md\n"
    }
   },
   "source": [
    "- Iniciar `docker` y `minikube`\n",
    "```\n",
    "minikube start\n",
    "```"
   ]
  },
  {
   "cell_type": "markdown",
   "metadata": {
    "pycharm": {
     "name": "#%% md\n"
    }
   },
   "source": [
    "## POD's\n",
    "- Crear un pod sencillo\n",
    "\n",
    "```\n",
    "apiVersion: v1\n",
    "kind: Pod\n",
    "metadata:\n",
    "  name: hello-pod\n",
    "spec:\n",
    "  containers:\n",
    "  - name: hello\n",
    "    image: gcr.io/google-samples/hello-app:1.0\n",
    "```\n",
    "\n",
    "- Ejecutar ese deployment\n",
    "```\n",
    "kubectl apply -f .yaml\n",
    "```\n",
    "\n",
    "\n",
    "- Ahora vamos a crear otro pod un poco más completo\n",
    "```\n",
    "apiVersion: v1\n",
    "kind: Pod\n",
    "metadata:\n",
    "  name: deployment\n",
    "spec:\n",
    "  containers:\n",
    "  - name: hello\n",
    "    image: nginx:alpine\n",
    "    env:\n",
    "    - name: MI_VARIABLE\n",
    "      value: \"variable1\"\n",
    "    - name: MI_OTRA_VARIABLE\n",
    "      value: \"esta es una contrasena\"\n",
    "    - name: DD_AGENT_HOST\n",
    "      valueFrom:\n",
    "        fieldRef:\n",
    "          fieldPath: status.hostIP\n",
    "    resources:\n",
    "      requests:\n",
    "        memory: \"64Mi\"\n",
    "        cpu: \"200m\"\n",
    "      limits:\n",
    "        memory: \"128Mi\"\n",
    "        cpu: \"500m\"\n",
    "    readinessProbe:\n",
    "      httpGet:\n",
    "        path: /\n",
    "        port: 80\n",
    "      initialDelaySeconds: 5\n",
    "      periodSeconds: 10\n",
    "    livenessProbe:\n",
    "      tcpSocket:\n",
    "        port: 80\n",
    "      initialDelaySeconds: 15\n",
    "      periodSeconds: 20\n",
    "    ports:\n",
    "    - containerPort: 80\n",
    "```\n",
    "\n",
    "- Ahora vamos a borrarlo... Se debería volver a \"levantar\" solo?\n",
    "```\n",
    "kubectl delete pod deployment.yaml\n",
    "```"
   ]
  },
  {
   "cell_type": "markdown",
   "metadata": {
    "pycharm": {
     "name": "#%% md\n"
    }
   },
   "source": [
    "## Deployments\n",
    " Es un template para crear PODS\n",
    "\n",
    "- Crear un deployment:\n",
    "```\n",
    "apiVersion: apps/v1\n",
    "kind: Deployment\n",
    "metadata:\n",
    "  name: nginx-deployment\n",
    "spec:\n",
    "  selector:\n",
    "    matchLabels:\n",
    "      app: nginx\n",
    "  replicas: 2\n",
    "  template:\n",
    "    metadata:\n",
    "      labels:\n",
    "        app: nginx\n",
    "    spec:\n",
    "      containers:\n",
    "      - name: nginx\n",
    "        image: nginx:alpine\n",
    "        env:\n",
    "        - name: MI_VARIABLE\n",
    "          value: \"variable1\"\n",
    "        - name: MI_OTRA_VARIABLE\n",
    "          value: \"esta es una contrasena\"\n",
    "        - name: DD_AGENT_HOST\n",
    "          valueFrom:\n",
    "            fieldRef:\n",
    "              fieldPath: status.hostIP\n",
    "        resources:\n",
    "          requests:\n",
    "            memory: \"64Mi\"\n",
    "            cpu: \"200m\"\n",
    "          limits:\n",
    "            memory: \"128Mi\"\n",
    "            cpu: \"500m\"\n",
    "        readinessProbe:\n",
    "          httpGet:\n",
    "            path: /\n",
    "            port: 80\n",
    "          initialDelaySeconds: 5\n",
    "          periodSeconds: 10\n",
    "        livenessProbe:\n",
    "          tcpSocket:\n",
    "            port: 80\n",
    "          initialDelaySeconds: 15\n",
    "          periodSeconds: 20\n",
    "        ports:\n",
    "        - containerPort: 80\n",
    "```\n",
    "- Ejecutar el deployment\n",
    "```\n",
    "kubectl apply -f deployment.yaml\n",
    "```\n",
    "\n",
    "- Ahora sí... Qué pasa si borramos un pod?\n",
    "```\n",
    "kubectl delete pod deployment.yaml\n",
    "```"
   ]
  },
  {
   "cell_type": "markdown",
   "metadata": {
    "pycharm": {
     "name": "#%% md\n"
    }
   },
   "source": [
    "## Load Balancer\n",
    "\n",
    "- Vamos a crear un deployment con balanceador de carga\n",
    "```\n",
    "apiVersion: apps/v1\n",
    "kind: Deployment\n",
    "metadata:\n",
    "  name: hello\n",
    "spec:\n",
    "  replicas: 3\n",
    "  selector:\n",
    "    matchLabels:\n",
    "      role: hello\n",
    "  template:\n",
    "    metadata:\n",
    "      labels:\n",
    "        role: hello\n",
    "    spec:\n",
    "      containers:\n",
    "      - name: hello\n",
    "        image: gcr.io/google-samples/hello-app:1.0\n",
    "        ports:\n",
    "        - containerPort: 8080\n",
    "\n",
    "---\n",
    "apiVersion: v1\n",
    "kind: Service\n",
    "metadata:\n",
    "  name: hello\n",
    "spec:\n",
    "  ports:\n",
    "  - port: 8080\n",
    "    targetPort: 8080\n",
    "  selector:\n",
    "    role: hello\n",
    "```\n",
    "\n",
    "- Revisar las ips\n",
    "```\n",
    "kubectl describe svc hello\n",
    "kubectl get pods -o wide\n",
    "```\n",
    "\n",
    "- Eliminar de nuevo un pod\n",
    "\n",
    "- Vamos a crear un pod de ubuntu para conectarnos\n",
    "```\n",
    "apiVersion: v1\n",
    "kind: Pod\n",
    "metadata:\n",
    "  name: ubuntu\n",
    "spec:\n",
    "  containers:\n",
    "  - name: ubuntu\n",
    "    image: ubuntu\n",
    "    args:\n",
    "    - sleep\n",
    "    - infinity\n",
    "```\n",
    "- Ingresamos al pod ubuntu\n",
    "```\n",
    "kubectl exec -it ubuntu -- bash\n",
    "apt-get update\n",
    "apt-get upgrade\n",
    "apt install curl\n",
    "curl http://hello:8080\n",
    "```\n"
   ]
  }
 ],
 "metadata": {
  "kernelspec": {
   "display_name": "Python 3 (ipykernel)",
   "language": "python",
   "name": "python3"
  },
  "language_info": {
   "codemirror_mode": {
    "name": "ipython",
    "version": 3
   },
   "file_extension": ".py",
   "mimetype": "text/x-python",
   "name": "python",
   "nbconvert_exporter": "python",
   "pygments_lexer": "ipython3",
   "version": "3.9.13"
  }
 },
 "nbformat": 4,
 "nbformat_minor": 1
}