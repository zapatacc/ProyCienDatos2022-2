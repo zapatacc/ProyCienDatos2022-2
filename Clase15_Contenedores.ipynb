{
 "cells": [
  {
   "cell_type": "markdown",
   "metadata": {
    "pycharm": {
     "name": "#%% md\n"
    }
   },
   "source": [
    "# Ejecutando servicios de Machine Learning en contenedores\n",
    "- Una de las tareas más importantes a la hora de escalar modelos de Machine Learning es cómo vamos a desplegar nuestro código.\n",
    "\n",
    "### Requerimientos para escalar modelos\n",
    "- Queremos que las aplicaciones se escalen, pero de manera eficiente: Escalamiento horizontal\n",
    "- El escalamiento horizontal incluye cluster de instancias (servidores)\n",
    "- El tamaño del clúster va a depender de la demanda\n",
    "- Así obtenemos los recursos que necesitamos para escalar y el costo-eficiencia de solo desplegar los recursos que necesitamos.\n",
    "\n",
    "### Dos maneras de realizar el despliegue...\n",
    "1. Poner el código que necesitamos en un servidor o una máquina virtual\n",
    "![](virtual_server.png)\n",
    "    - **Características**\n",
    "        - Desplegar un servidor o servidor virtual\n",
    "        - Actualizar el sistema operativo\n",
    "        - Instalar los lenguajes y librerías\n",
    "        - Instalar el código del modelo de Machine Learning\n",
    "        - Correr pruebas para validar que todos los componentes se instalaron correctamente.\n",
    "    - **Contras**\n",
    "        - Tiempo de instalación\n",
    "        - Algunos servidores pueden correr una versión diferente del código\n",
    "        - Diferencias en configuraciones\n",
    "\n",
    "2. Usar un contenedor que tiene pre-construido todos los componentes que vamos a necesitar.\n",
    "![](container.png)\n",
    "    - Se instala y se prueba una sola vez, no cada vez que iniciamos una nueva instancia\n",
    "    - Esto asegura que cada despliegue corre el mismo conjunto de componentes\n",
    "    - Tiempo mínimo para empezar a responder peticiones.\n",
    "____"
   ]
  },
  {
   "cell_type": "markdown",
   "metadata": {
    "pycharm": {
     "name": "#%% md\n"
    }
   },
   "source": [
    "## Aprendiendo a utilizar Docker\n",
    "\n",
    "- Dockerfile\n",
    "- Imágen\n",
    "- Contenedor\n",
    "\n",
    "Veamos la siguiente introducción y guía rápida a Docker:\n",
    "\n",
    "[Docker](https://youtu.be/_dfLOzuIg2o?t=17)"
   ]
  },
  {
   "cell_type": "markdown",
   "metadata": {
    "pycharm": {
     "name": "#%% md\n"
    }
   },
   "source": [
    "## Ejemplo de Dockerfile\n",
    "```\n",
    "FROM python:3.7-slim-buster\n",
    "\n",
    "WORKDIR /code\n",
    "\n",
    "COPY ./requirements.txt /code/requirements.txt\n",
    "\n",
    "RUN apt-get update && apt-get install -y procps && pip install -U pip && rm /etc/localtime && ln -s /usr/share/zoneinfo/America/Mexico_City /etc/localtime\n",
    "RUN pip install -r ./requirements.txt\n",
    "\n",
    "COPY ./source /code/source\n",
    "\n",
    "EXPOSE 5000\n",
    "CMD [\"uvicorn\",\"source.main:app\", \"--host\", \"0.0.0.0\", \"--port\", \"5000\"]\n",
    "``"
   ]
  },
  {
   "cell_type": "markdown",
   "metadata": {
    "pycharm": {
     "name": "#%% md\n"
    }
   },
   "source": [
    "## Ejemplo para construir una imagen\n",
    "```\n",
    "docker build ../ -t {IMAGE_NAME}:{IMAGE_TAG}\n",
    "```\n",
    "\n",
    "Explicar el concepto de capas (layer) y cómo afecta en la construcción de una imagen"
   ]
  },
  {
   "cell_type": "markdown",
   "metadata": {
    "pycharm": {
     "name": "#%% md\n"
    }
   },
   "source": [
    "### Ejemplo para ejecutar el contenedor (con la imagen)\n",
    "```\n",
    "docker run -it --rm \\\n",
    "\t\t--name ${CONTAINER_NAME} \\\n",
    "\t\t-v /etc/timezone:/etc/timezone:ro \\\n",
    "\t\t-v /etc/localtime:/etc/localtime:ro \\\n",
    "\t\t-p 5000:5000 {IMAGE_NAME}:{IMAGE_TAG}\n",
    "```"
   ]
  }
 ],
 "metadata": {
  "kernelspec": {
   "display_name": "Python 3 (ipykernel)",
   "language": "python",
   "name": "python3"
  },
  "language_info": {
   "codemirror_mode": {
    "name": "ipython",
    "version": 3
   },
   "file_extension": ".py",
   "mimetype": "text/x-python",
   "name": "python",
   "nbconvert_exporter": "python",
   "pygments_lexer": "ipython3",
   "version": "3.9.13"
  }
 },
 "nbformat": 4,
 "nbformat_minor": 1
}
