{
 "cells": [
  {
   "cell_type": "markdown",
   "metadata": {
    "pycharm": {
     "name": "#%% md\n"
    }
   },
   "source": [
    "# Patrones de diseño para aplicaciones de Machine Learning escalables\n",
    "\n",
    "\n",
    "## Recordemos...\n",
    "La clase pasada hablamos de dos requerimientos importantes:\n",
    "\n",
    "- Escalabilidad\n",
    "- Alta disponibilidad (Redundancia)\n",
    "\n",
    "¿Qué eran?\n",
    "\n",
    "¿Cómo podemos obtener ambos?\n",
    ".\n",
    "\n",
    ".\n",
    "\n",
    ".\n",
    "\n",
    ".\n",
    "\n",
    ".\n",
    "\n",
    ".\n",
    "\n",
    ".\n",
    "\n",
    ".\n",
    "\n",
    ".\n",
    "\n",
    ".\n",
    "\n",
    ".\n",
    "\n",
    ".\n",
    "\n",
    ".\n",
    "\n",
    ".\n",
    "\n",
    "### ESCALAMIENTO HORIZONTAL"
   ]
  },
  {
   "cell_type": "markdown",
   "metadata": {
    "pycharm": {
     "name": "#%% md\n"
    }
   },
   "source": [
    "\n",
    "## 1. Escalamiento horizontal vs escalamiento vertical\n",
    "\n",
    "![](https://www.webairy.com/wp-content/uploads/2019/07/hvsv.jpg)\n",
    "\n",
    "### 1.1 Escalamiento vertical\n",
    "- Reemplazar un \"servidor\" (instancia) por uno de mayor \"tamaño\"\n",
    "- Incrementar el número de procesadores\n",
    "- Aumentar el tamaño de la memoria RAM\n",
    "- Agregar más memoria persistente\n",
    "\n",
    "Las primeras bases de datos eran aplicaciones con escalamiento vertical\n",
    "\n",
    "### 1.2 Escalamiento horizontal\n",
    "- Agregar \"servidores\" (instancias) a un clúster (o un conjunto distribuido de servidores)\n",
    "- La mayoría (o todos) los servidores corren el mismo software\n",
    "- A veces existe un nodo `controlador` que administra la ejecución de los demás clúster\n",
    "- Las instancias o clúster se agregan cuando la carga de trabajo aumenta (Qué significa que la carga de trabajo aumente?)\n",
    "\n",
    "### 1.3 Demanda pico\n",
    "- Con el escalamiento vertical, se necesita un plan para la demanda pico.\n",
    "- Considerar cuál será dicha demanda.\n",
    "- Se debe pagar por el procesador, memoria y almacenamiento incluso cuando no esté en uso.\n",
    "- Con el escalamiento horizontal, se puede adaptar las instancias a la demanda: Cloud services.\n",
    "\n",
    "![](Ec2_prices.png)"
   ]
  },
  {
   "cell_type": "markdown",
   "metadata": {
    "pycharm": {
     "name": "#%% md\n"
    }
   },
   "source": [
    "## 2. Ejecutando modelos como servicios\n",
    "\n",
    "### 2.1 Servicio\n",
    "- Es un término común cuando se habla de arquitectura y cómputo distribuido\n",
    "- Servicios, son una abstracción de software para describir la ejecución de programas que comparten características en común.\n",
    "- Esto incluye:\n",
    "- Servicio (o software) sea accesible sobre la red\n",
    "- Pueda ser invocado (llamado) usando protocolos estándar (HTTP)\n",
    "- Desempeñan una sola función\n",
    "- No (deben) toman mucho tiempo en ejecutarse, ya que son operaciones rápidas\n",
    "- Se pueden desplegar en paralelo\n",
    "- Pueden ser distinguidos en cómo comparten o intercambian los datos, por ejemplo: RestFul services comparten estructuras json\n",
    "\n",
    "### 2.2 Modelo como servicio\n",
    "- El foco del curso, es ejecutar modelos de Machine Learning como servicios.\n",
    "- Configurar nuestros programas de Machine Learning para que sean llamados por otros programas (en la red)\n",
    "- Muy diferente de ejecutar un modelo en un cuaderno de Jupyter (o Rstudio)\n",
    "- Se necesita empaquetar el modelo en un `script` o programa que nos permita invocar funciones (predict) desde una API.\n",
    "\n",
    "![](model_AaS.png)\n",
    "\n",
    "- Cuando el servicio se está ejecutando, este recibe llamados API a través del servidor web\n",
    "\n",
    "![](web_application.png)"
   ]
  },
  {
   "cell_type": "markdown",
   "metadata": {
    "pycharm": {
     "name": "#%% md\n"
    }
   },
   "source": [
    "## 3. APIs para ML model services\n",
    "- Las API son parte esencial de la arquitectura para escalar modelos de Machine Learning.\n",
    "\n",
    "### Ejemplo simple de un llamado de una API\n",
    "- **URL:**\n",
    "https://scalablemodels.com/listpredictors\n",
    "- **Operación HTTP:**\n",
    "    - GET\n",
    "    - PUT\n",
    "    - POST\n",
    "    - DELETE\n",
    "\n",
    "\n",
    "Como estamos trabajando con modelos de ML, debemos enfocarnos en un conjunto de parámetros (de entrada) y regresar un objeto json.\n",
    "\n",
    "### Ejemplo simple para ML models: Clasificador de flores Iris.\n",
    "Clasificar el tipo de planta iris, según el tamaño de sus pétalos y sépalos.\n",
    "\n",
    "- **URL:**\n",
    "https://scalablemodels.com/api/v01/classify\n",
    "    - `api`\n",
    "    - `v01`\n",
    "\n",
    "- **Características:**\n",
    "    - Largo del pétalo `pl`: 5.1\n",
    "    - Ancho del pétalo  `pw`: 3.5\n",
    "    - Largo del sépalo `sl`: 1.4\n",
    "    - Ancho del sépalo `sw`: 0.4\n",
    "\n",
    "**Pregunta: Cómo podríamos ingresar esos parámetros a nuestro modelo (usando la API)?**\n",
    "\n",
    "Respuesta en la siguiente celda:"
   ]
  },
  {
   "cell_type": "markdown",
   "metadata": {
    "pycharm": {
     "name": "#%% md\n"
    }
   },
   "source": [
    "- Parámetros de ruta: (Suponiendo que el endpoint es api/v01/classify/{pl}/{pw}/{sl}/{sw} )\n",
    "https://scalablemodels.com/api/v01/classify/5.1/3.5/1.4/0.4\n",
    "\n",
    "- Parámetros de query:\n",
    "https://scalablemodels.com/api/v01/classify?pl=5.1&pw=3.5&sw=0.4&sl=1.4\n",
    "\n",
    "- Parámetros de body:\n",
    "https://scalablemodels.com/api/v01/classify\n",
    "\n",
    "{\n",
    "\"pl\": \"5.1\",\n",
    "\"pw\": \"3.5\",\n",
    "\"sl\": \"1.4\",\n",
    "\"sw\": \"0.4\"\n",
    "}"
   ]
  },
  {
   "cell_type": "markdown",
   "metadata": {
    "pycharm": {
     "name": "#%% md\n"
    }
   },
   "source": [
    "La respuesta que nos debería dar la API con esos parámetros debería ser algo por el estilo:\n",
    "\n",
    "`{\"specie\": \"Iris Setosa\"}`\n",
    "\n",
    "Obviamente junto a su respectivo código de estatus."
   ]
  },
  {
   "cell_type": "markdown",
   "metadata": {
    "pycharm": {
     "name": "#%% md\n"
    }
   },
   "source": [
    "## 4. Balanceando cargas\n",
    "Cuando estamos usando un cluster (de instancias), o un grupo de servidores para ejecutar nuestro modelo, necesitamos una manera de distribuir el trabajo en las instancias.\n",
    "\n",
    "![](load_balancer.png)\n",
    "\n",
    "Cuando queremos distribuir ese trabajo en un conjunto de servidores, debes verificar y optimizar los siguientes puntos:\n",
    "\n",
    "- Distribuir de manera equitativa\n",
    "- Detectar instancias no saludables\n",
    "- El balanceador debe estar configurado para tener alta disponibilidad\n",
    "- Suplir con la demanda\n",
    "\n",
    "### 4.1 Métodos para distribuir la carga\n",
    "- Balanceo del lado del cliente\n",
    "![](client_side.png)\n",
    "\n",
    "- Random choice\n",
    "![](random_choice.png)\n",
    "\n",
    "- Round-robin\n",
    "![](round_robin.png)\n",
    "- Menos conexiones\n",
    "- Menos carga\n",
    "\n",
    "### 4.2 Características adicionales\n",
    "- Health checks\n",
    "- HTTP compression\n",
    "- Firewall\n",
    "- Detección y prevención de intrusos"
   ]
  }
 ],
 "metadata": {
  "kernelspec": {
   "display_name": "Python 3 (ipykernel)",
   "language": "python",
   "name": "python3"
  },
  "language_info": {
   "codemirror_mode": {
    "name": "ipython",
    "version": 3
   },
   "file_extension": ".py",
   "mimetype": "text/x-python",
   "name": "python",
   "nbconvert_exporter": "python",
   "pygments_lexer": "ipython3",
   "version": "3.9.13"
  }
 },
 "nbformat": 4,
 "nbformat_minor": 1
}