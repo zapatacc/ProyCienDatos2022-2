{
 "cells": [
  {
   "cell_type": "markdown",
   "metadata": {},
   "source": [
    "## Tarea: Entrega 3 del proyecto:\n",
    "- Correcciones de las entregas previas\n",
    "- Estructurar el proyecto\n",
    "- Creación del archivo `requirements.txt` para el servicio de Machine Learning (API)\n",
    "- Creación del DockerFile para el servicio de Machine Learning (API)\n",
    "- Creación de la imagen para el servicio de Machine Learning (API)\n",
    "- Ejecutar la imagen anterior en un contenedor local\n",
    "- Subir la imagen al repositorio de imagenes de Azure\n",
    "- Agregar un screenshot de la imagen en dicho repositorio al informe.\n",
    "\n",
    "### Fecha de entrega: Miércoles 23 de Noviembre de 2022 a las 19:55\n",
    "____"
   ]
  },
  {
   "cell_type": "markdown",
   "metadata": {},
   "source": [
    "## Examen Final:\n",
    "Se los enviaré el día Lunes 21 de Noviembre de 2022 y fecha límite de entrega el Viernes 25 de Noviembre a las 10:00 am\n",
    "___"
   ]
  },
  {
   "cell_type": "markdown",
   "metadata": {},
   "source": [
    "## Entrega Final del Proyecto y presentación\n",
    "- El proyecto final (informe escrito) completo se debe entregar el día Miércoles 30 de Noviembre a las 19:55\n",
    "- La presentación final del proyecto será el Miércoles 30 de Noviembre en el horario de clase"
   ]
  }
 ],
 "metadata": {
  "kernelspec": {
   "display_name": "Python 3 (ipykernel)",
   "language": "python",
   "name": "python3"
  },
  "language_info": {
   "codemirror_mode": {
    "name": "ipython",
    "version": 3
   },
   "file_extension": ".py",
   "mimetype": "text/x-python",
   "name": "python",
   "nbconvert_exporter": "python",
   "pygments_lexer": "ipython3",
   "version": "3.9.13"
  }
 },
 "nbformat": 4,
 "nbformat_minor": 1
}
